{
 "cells": [
  {
   "cell_type": "code",
   "execution_count": 1,
   "metadata": {},
   "outputs": [],
   "source": [
    "import pandas as pd\n",
    "import numpy as np\n",
    "import matplotlib.pyplot as plt\n",
    "import seaborn as sns"
   ]
  },
  {
   "cell_type": "code",
   "execution_count": 2,
   "metadata": {},
   "outputs": [],
   "source": [
    "df = pd.read_excel(\"space.xlsx\")"
   ]
  },
  {
   "cell_type": "code",
   "execution_count": 3,
   "metadata": {},
   "outputs": [
    {
     "data": {
      "text/html": [
       "<div>\n",
       "<style scoped>\n",
       "    .dataframe tbody tr th:only-of-type {\n",
       "        vertical-align: middle;\n",
       "    }\n",
       "\n",
       "    .dataframe tbody tr th {\n",
       "        vertical-align: top;\n",
       "    }\n",
       "\n",
       "    .dataframe thead th {\n",
       "        text-align: right;\n",
       "    }\n",
       "</style>\n",
       "<table border=\"1\" class=\"dataframe\">\n",
       "  <thead>\n",
       "    <tr style=\"text-align: right;\">\n",
       "      <th></th>\n",
       "      <th>Company</th>\n",
       "      <th>Location</th>\n",
       "      <th>Date</th>\n",
       "      <th>Time</th>\n",
       "      <th>Rocket</th>\n",
       "      <th>Mission</th>\n",
       "      <th>RocketStatus</th>\n",
       "      <th>Price</th>\n",
       "      <th>MissionStatus</th>\n",
       "    </tr>\n",
       "  </thead>\n",
       "  <tbody>\n",
       "    <tr>\n",
       "      <th>0</th>\n",
       "      <td>RVSN USSR</td>\n",
       "      <td>Site 1/5, Baikonur Cosmodrome, Kazakhstan</td>\n",
       "      <td>1957-10-04</td>\n",
       "      <td>19:28:00</td>\n",
       "      <td>Sputnik 8K71PS</td>\n",
       "      <td>Sputnik-1</td>\n",
       "      <td>Retired</td>\n",
       "      <td>NaN</td>\n",
       "      <td>Success</td>\n",
       "    </tr>\n",
       "    <tr>\n",
       "      <th>1</th>\n",
       "      <td>RVSN USSR</td>\n",
       "      <td>Site 1/5, Baikonur Cosmodrome, Kazakhstan</td>\n",
       "      <td>1957-11-03</td>\n",
       "      <td>02:30:00</td>\n",
       "      <td>Sputnik 8K71PS</td>\n",
       "      <td>Sputnik-2</td>\n",
       "      <td>Retired</td>\n",
       "      <td>NaN</td>\n",
       "      <td>Success</td>\n",
       "    </tr>\n",
       "    <tr>\n",
       "      <th>2</th>\n",
       "      <td>US Navy</td>\n",
       "      <td>LC-18A, Cape Canaveral AFS, Florida, USA</td>\n",
       "      <td>1957-12-06</td>\n",
       "      <td>16:44:00</td>\n",
       "      <td>Vanguard</td>\n",
       "      <td>Vanguard TV3</td>\n",
       "      <td>Retired</td>\n",
       "      <td>NaN</td>\n",
       "      <td>Failure</td>\n",
       "    </tr>\n",
       "    <tr>\n",
       "      <th>3</th>\n",
       "      <td>AMBA</td>\n",
       "      <td>LC-26A, Cape Canaveral AFS, Florida, USA</td>\n",
       "      <td>1958-02-01</td>\n",
       "      <td>03:48:00</td>\n",
       "      <td>Juno I</td>\n",
       "      <td>Explorer 1</td>\n",
       "      <td>Retired</td>\n",
       "      <td>NaN</td>\n",
       "      <td>Success</td>\n",
       "    </tr>\n",
       "    <tr>\n",
       "      <th>4</th>\n",
       "      <td>US Navy</td>\n",
       "      <td>LC-18A, Cape Canaveral AFS, Florida, USA</td>\n",
       "      <td>1958-02-05</td>\n",
       "      <td>07:33:00</td>\n",
       "      <td>Vanguard</td>\n",
       "      <td>Vanguard TV3BU</td>\n",
       "      <td>Retired</td>\n",
       "      <td>NaN</td>\n",
       "      <td>Failure</td>\n",
       "    </tr>\n",
       "  </tbody>\n",
       "</table>\n",
       "</div>"
      ],
      "text/plain": [
       "     Company                                   Location       Date      Time  \\\n",
       "0  RVSN USSR  Site 1/5, Baikonur Cosmodrome, Kazakhstan 1957-10-04  19:28:00   \n",
       "1  RVSN USSR  Site 1/5, Baikonur Cosmodrome, Kazakhstan 1957-11-03  02:30:00   \n",
       "2    US Navy   LC-18A, Cape Canaveral AFS, Florida, USA 1957-12-06  16:44:00   \n",
       "3       AMBA   LC-26A, Cape Canaveral AFS, Florida, USA 1958-02-01  03:48:00   \n",
       "4    US Navy   LC-18A, Cape Canaveral AFS, Florida, USA 1958-02-05  07:33:00   \n",
       "\n",
       "           Rocket         Mission RocketStatus  Price MissionStatus  \n",
       "0  Sputnik 8K71PS       Sputnik-1      Retired    NaN       Success  \n",
       "1  Sputnik 8K71PS       Sputnik-2      Retired    NaN       Success  \n",
       "2        Vanguard    Vanguard TV3      Retired    NaN       Failure  \n",
       "3          Juno I      Explorer 1      Retired    NaN       Success  \n",
       "4        Vanguard  Vanguard TV3BU      Retired    NaN       Failure  "
      ]
     },
     "execution_count": 3,
     "metadata": {},
     "output_type": "execute_result"
    }
   ],
   "source": [
    "df.head()"
   ]
  },
  {
   "cell_type": "code",
   "execution_count": 4,
   "metadata": {},
   "outputs": [
    {
     "data": {
      "text/plain": [
       "Index(['Company', 'Location', 'Date', 'Time', 'Rocket', 'Mission',\n",
       "       'RocketStatus', 'Price', 'MissionStatus'],\n",
       "      dtype='object')"
      ]
     },
     "execution_count": 4,
     "metadata": {},
     "output_type": "execute_result"
    }
   ],
   "source": [
    "df.columns"
   ]
  },
  {
   "cell_type": "code",
   "execution_count": 5,
   "metadata": {},
   "outputs": [
    {
     "data": {
      "text/plain": [
       "(4630, 9)"
      ]
     },
     "execution_count": 5,
     "metadata": {},
     "output_type": "execute_result"
    }
   ],
   "source": [
    "df.shape"
   ]
  },
  {
   "cell_type": "code",
   "execution_count": 6,
   "metadata": {},
   "outputs": [
    {
     "name": "stdout",
     "output_type": "stream",
     "text": [
      "No.of Rows: 4630\n"
     ]
    }
   ],
   "source": [
    "print(\"No.of Rows:\",df.shape[0])"
   ]
  },
  {
   "cell_type": "code",
   "execution_count": 7,
   "metadata": {},
   "outputs": [
    {
     "name": "stdout",
     "output_type": "stream",
     "text": [
      "No.of Columns: 9\n"
     ]
    }
   ],
   "source": [
    "print(\"No.of Columns:\",df.shape[1])"
   ]
  },
  {
   "cell_type": "code",
   "execution_count": 8,
   "metadata": {},
   "outputs": [
    {
     "data": {
      "text/plain": [
       "Company                  object\n",
       "Location                 object\n",
       "Date             datetime64[ns]\n",
       "Time                     object\n",
       "Rocket                   object\n",
       "Mission                  object\n",
       "RocketStatus             object\n",
       "Price                   float64\n",
       "MissionStatus            object\n",
       "dtype: object"
      ]
     },
     "execution_count": 8,
     "metadata": {},
     "output_type": "execute_result"
    }
   ],
   "source": [
    "df.dtypes"
   ]
  },
  {
   "cell_type": "markdown",
   "metadata": {},
   "source": [
    "### Null Report"
   ]
  },
  {
   "cell_type": "code",
   "execution_count": 9,
   "metadata": {},
   "outputs": [
    {
     "data": {
      "text/plain": [
       "Company             0\n",
       "Location            0\n",
       "Date                0\n",
       "Time              127\n",
       "Rocket              0\n",
       "Mission             0\n",
       "RocketStatus        0\n",
       "Price            3365\n",
       "MissionStatus       0\n",
       "dtype: int64"
      ]
     },
     "execution_count": 9,
     "metadata": {},
     "output_type": "execute_result"
    }
   ],
   "source": [
    "df.isnull().sum()"
   ]
  },
  {
   "cell_type": "code",
   "execution_count": null,
   "metadata": {},
   "outputs": [
    {
     "data": {
      "text/html": [
       "<div>\n",
       "<style scoped>\n",
       "    .dataframe tbody tr th:only-of-type {\n",
       "        vertical-align: middle;\n",
       "    }\n",
       "\n",
       "    .dataframe tbody tr th {\n",
       "        vertical-align: top;\n",
       "    }\n",
       "\n",
       "    .dataframe thead th {\n",
       "        text-align: right;\n",
       "    }\n",
       "</style>\n",
       "<table border=\"1\" class=\"dataframe\">\n",
       "  <thead>\n",
       "    <tr style=\"text-align: right;\">\n",
       "      <th></th>\n",
       "      <th>Company</th>\n",
       "      <th>Location</th>\n",
       "      <th>Date</th>\n",
       "      <th>Time</th>\n",
       "      <th>Rocket</th>\n",
       "      <th>Mission</th>\n",
       "      <th>RocketStatus</th>\n",
       "      <th>Price</th>\n",
       "      <th>MissionStatus</th>\n",
       "    </tr>\n",
       "  </thead>\n",
       "  <tbody>\n",
       "    <tr>\n",
       "      <th>13</th>\n",
       "      <td>US Navy</td>\n",
       "      <td>Douglas F4D Skyray, Naval Air Station Point Mu...</td>\n",
       "      <td>1958-07-25</td>\n",
       "      <td>NaN</td>\n",
       "      <td>NOTS-EV-1 Pilot II</td>\n",
       "      <td>Pilot-1 (D1)</td>\n",
       "      <td>Retired</td>\n",
       "      <td>NaN</td>\n",
       "      <td>Failure</td>\n",
       "    </tr>\n",
       "    <tr>\n",
       "      <th>15</th>\n",
       "      <td>US Navy</td>\n",
       "      <td>Douglas F4D Skyray, Naval Air Station Point Mu...</td>\n",
       "      <td>1958-08-12</td>\n",
       "      <td>NaN</td>\n",
       "      <td>NOTS-EV-1 Pilot II</td>\n",
       "      <td>Pilot-2 (D2)</td>\n",
       "      <td>Retired</td>\n",
       "      <td>NaN</td>\n",
       "      <td>Failure</td>\n",
       "    </tr>\n",
       "    <tr>\n",
       "      <th>17</th>\n",
       "      <td>US Navy</td>\n",
       "      <td>Douglas F4D Skyray, Naval Air Station Point Mu...</td>\n",
       "      <td>1958-08-22</td>\n",
       "      <td>NaN</td>\n",
       "      <td>NOTS-EV-1 Pilot II</td>\n",
       "      <td>Pilot-3 (D3)</td>\n",
       "      <td>Retired</td>\n",
       "      <td>NaN</td>\n",
       "      <td>Failure</td>\n",
       "    </tr>\n",
       "    <tr>\n",
       "      <th>19</th>\n",
       "      <td>US Navy</td>\n",
       "      <td>Douglas F4D Skyray, Naval Air Station Point Mu...</td>\n",
       "      <td>1958-08-25</td>\n",
       "      <td>NaN</td>\n",
       "      <td>NOTS-EV-1 Pilot II</td>\n",
       "      <td>Pilot-4 (R1)</td>\n",
       "      <td>Retired</td>\n",
       "      <td>NaN</td>\n",
       "      <td>Failure</td>\n",
       "    </tr>\n",
       "    <tr>\n",
       "      <th>20</th>\n",
       "      <td>US Navy</td>\n",
       "      <td>Douglas F4D Skyray, Naval Air Station Point Mu...</td>\n",
       "      <td>1958-08-26</td>\n",
       "      <td>NaN</td>\n",
       "      <td>NOTS-EV-1 Pilot II</td>\n",
       "      <td>Pilot-5 (R2)</td>\n",
       "      <td>Retired</td>\n",
       "      <td>NaN</td>\n",
       "      <td>Failure</td>\n",
       "    </tr>\n",
       "    <tr>\n",
       "      <th>...</th>\n",
       "      <td>...</td>\n",
       "      <td>...</td>\n",
       "      <td>...</td>\n",
       "      <td>...</td>\n",
       "      <td>...</td>\n",
       "      <td>...</td>\n",
       "      <td>...</td>\n",
       "      <td>...</td>\n",
       "      <td>...</td>\n",
       "    </tr>\n",
       "    <tr>\n",
       "      <th>3988</th>\n",
       "      <td>ISA</td>\n",
       "      <td>Imam Khomeini Spaceport, Semnan Space Center, ...</td>\n",
       "      <td>2017-07-27</td>\n",
       "      <td>NaN</td>\n",
       "      <td>Simorgh</td>\n",
       "      <td>Test Flight</td>\n",
       "      <td>Active</td>\n",
       "      <td>NaN</td>\n",
       "      <td>Failure</td>\n",
       "    </tr>\n",
       "    <tr>\n",
       "      <th>4029</th>\n",
       "      <td>Blue Origin</td>\n",
       "      <td>Blue Origin Launch Site, West Texas, Texas, USA</td>\n",
       "      <td>2017-12-17</td>\n",
       "      <td>NaN</td>\n",
       "      <td>New Shepard</td>\n",
       "      <td>NS-7</td>\n",
       "      <td>Active</td>\n",
       "      <td>NaN</td>\n",
       "      <td>Success</td>\n",
       "    </tr>\n",
       "    <tr>\n",
       "      <th>4161</th>\n",
       "      <td>ISA</td>\n",
       "      <td>Imam Khomeini Spaceport, Semnan Space Center, ...</td>\n",
       "      <td>2019-02-05</td>\n",
       "      <td>NaN</td>\n",
       "      <td>Safir-1B+</td>\n",
       "      <td>Dousti</td>\n",
       "      <td>Active</td>\n",
       "      <td>NaN</td>\n",
       "      <td>Failure</td>\n",
       "    </tr>\n",
       "    <tr>\n",
       "      <th>4217</th>\n",
       "      <td>ISA</td>\n",
       "      <td>Imam Khomeini Spaceport, Semnan Space Center, ...</td>\n",
       "      <td>2019-08-29</td>\n",
       "      <td>NaN</td>\n",
       "      <td>Safir-1B+</td>\n",
       "      <td>Nahid-1</td>\n",
       "      <td>Active</td>\n",
       "      <td>NaN</td>\n",
       "      <td>Prelaunch Failure</td>\n",
       "    </tr>\n",
       "    <tr>\n",
       "      <th>4389</th>\n",
       "      <td>ISA</td>\n",
       "      <td>Launch Platform, Shahrud Missile Test Site, Iran</td>\n",
       "      <td>2021-02-01</td>\n",
       "      <td>NaN</td>\n",
       "      <td>Zoljanah</td>\n",
       "      <td>Demo Flight</td>\n",
       "      <td>Active</td>\n",
       "      <td>NaN</td>\n",
       "      <td>Success</td>\n",
       "    </tr>\n",
       "  </tbody>\n",
       "</table>\n",
       "<p>127 rows × 9 columns</p>\n",
       "</div>"
      ],
      "text/plain": [
       "          Company                                           Location  \\\n",
       "13        US Navy  Douglas F4D Skyray, Naval Air Station Point Mu...   \n",
       "15        US Navy  Douglas F4D Skyray, Naval Air Station Point Mu...   \n",
       "17        US Navy  Douglas F4D Skyray, Naval Air Station Point Mu...   \n",
       "19        US Navy  Douglas F4D Skyray, Naval Air Station Point Mu...   \n",
       "20        US Navy  Douglas F4D Skyray, Naval Air Station Point Mu...   \n",
       "...           ...                                                ...   \n",
       "3988          ISA  Imam Khomeini Spaceport, Semnan Space Center, ...   \n",
       "4029  Blue Origin    Blue Origin Launch Site, West Texas, Texas, USA   \n",
       "4161          ISA  Imam Khomeini Spaceport, Semnan Space Center, ...   \n",
       "4217          ISA  Imam Khomeini Spaceport, Semnan Space Center, ...   \n",
       "4389          ISA   Launch Platform, Shahrud Missile Test Site, Iran   \n",
       "\n",
       "           Date Time              Rocket       Mission RocketStatus  Price  \\\n",
       "13   1958-07-25  NaN  NOTS-EV-1 Pilot II  Pilot-1 (D1)      Retired    NaN   \n",
       "15   1958-08-12  NaN  NOTS-EV-1 Pilot II  Pilot-2 (D2)      Retired    NaN   \n",
       "17   1958-08-22  NaN  NOTS-EV-1 Pilot II  Pilot-3 (D3)      Retired    NaN   \n",
       "19   1958-08-25  NaN  NOTS-EV-1 Pilot II  Pilot-4 (R1)      Retired    NaN   \n",
       "20   1958-08-26  NaN  NOTS-EV-1 Pilot II  Pilot-5 (R2)      Retired    NaN   \n",
       "...         ...  ...                 ...           ...          ...    ...   \n",
       "3988 2017-07-27  NaN             Simorgh   Test Flight       Active    NaN   \n",
       "4029 2017-12-17  NaN         New Shepard          NS-7       Active    NaN   \n",
       "4161 2019-02-05  NaN           Safir-1B+        Dousti       Active    NaN   \n",
       "4217 2019-08-29  NaN           Safir-1B+       Nahid-1       Active    NaN   \n",
       "4389 2021-02-01  NaN            Zoljanah   Demo Flight       Active    NaN   \n",
       "\n",
       "          MissionStatus  \n",
       "13              Failure  \n",
       "15              Failure  \n",
       "17              Failure  \n",
       "19              Failure  \n",
       "20              Failure  \n",
       "...                 ...  \n",
       "3988            Failure  \n",
       "4029            Success  \n",
       "4161            Failure  \n",
       "4217  Prelaunch Failure  \n",
       "4389            Success  \n",
       "\n",
       "[127 rows x 9 columns]"
      ]
     },
     "execution_count": 10,
     "metadata": {},
     "output_type": "execute_result"
    }
   ],
   "source": [
    "df[df['Time'].isnull()]"
   ]
  },
  {
   "cell_type": "code",
   "execution_count": null,
   "metadata": {},
   "outputs": [
    {
     "data": {
      "text/html": [
       "<div>\n",
       "<style scoped>\n",
       "    .dataframe tbody tr th:only-of-type {\n",
       "        vertical-align: middle;\n",
       "    }\n",
       "\n",
       "    .dataframe tbody tr th {\n",
       "        vertical-align: top;\n",
       "    }\n",
       "\n",
       "    .dataframe thead th {\n",
       "        text-align: right;\n",
       "    }\n",
       "</style>\n",
       "<table border=\"1\" class=\"dataframe\">\n",
       "  <thead>\n",
       "    <tr style=\"text-align: right;\">\n",
       "      <th></th>\n",
       "      <th>Company</th>\n",
       "      <th>Location</th>\n",
       "      <th>Date</th>\n",
       "      <th>Time</th>\n",
       "      <th>Rocket</th>\n",
       "      <th>Mission</th>\n",
       "      <th>RocketStatus</th>\n",
       "      <th>Price</th>\n",
       "      <th>MissionStatus</th>\n",
       "    </tr>\n",
       "  </thead>\n",
       "  <tbody>\n",
       "    <tr>\n",
       "      <th>0</th>\n",
       "      <td>RVSN USSR</td>\n",
       "      <td>Site 1/5, Baikonur Cosmodrome, Kazakhstan</td>\n",
       "      <td>1957-10-04</td>\n",
       "      <td>19:28:00</td>\n",
       "      <td>Sputnik 8K71PS</td>\n",
       "      <td>Sputnik-1</td>\n",
       "      <td>Retired</td>\n",
       "      <td>NaN</td>\n",
       "      <td>Success</td>\n",
       "    </tr>\n",
       "    <tr>\n",
       "      <th>1</th>\n",
       "      <td>RVSN USSR</td>\n",
       "      <td>Site 1/5, Baikonur Cosmodrome, Kazakhstan</td>\n",
       "      <td>1957-11-03</td>\n",
       "      <td>02:30:00</td>\n",
       "      <td>Sputnik 8K71PS</td>\n",
       "      <td>Sputnik-2</td>\n",
       "      <td>Retired</td>\n",
       "      <td>NaN</td>\n",
       "      <td>Success</td>\n",
       "    </tr>\n",
       "    <tr>\n",
       "      <th>2</th>\n",
       "      <td>US Navy</td>\n",
       "      <td>LC-18A, Cape Canaveral AFS, Florida, USA</td>\n",
       "      <td>1957-12-06</td>\n",
       "      <td>16:44:00</td>\n",
       "      <td>Vanguard</td>\n",
       "      <td>Vanguard TV3</td>\n",
       "      <td>Retired</td>\n",
       "      <td>NaN</td>\n",
       "      <td>Failure</td>\n",
       "    </tr>\n",
       "    <tr>\n",
       "      <th>3</th>\n",
       "      <td>AMBA</td>\n",
       "      <td>LC-26A, Cape Canaveral AFS, Florida, USA</td>\n",
       "      <td>1958-02-01</td>\n",
       "      <td>03:48:00</td>\n",
       "      <td>Juno I</td>\n",
       "      <td>Explorer 1</td>\n",
       "      <td>Retired</td>\n",
       "      <td>NaN</td>\n",
       "      <td>Success</td>\n",
       "    </tr>\n",
       "    <tr>\n",
       "      <th>4</th>\n",
       "      <td>US Navy</td>\n",
       "      <td>LC-18A, Cape Canaveral AFS, Florida, USA</td>\n",
       "      <td>1958-02-05</td>\n",
       "      <td>07:33:00</td>\n",
       "      <td>Vanguard</td>\n",
       "      <td>Vanguard TV3BU</td>\n",
       "      <td>Retired</td>\n",
       "      <td>NaN</td>\n",
       "      <td>Failure</td>\n",
       "    </tr>\n",
       "    <tr>\n",
       "      <th>...</th>\n",
       "      <td>...</td>\n",
       "      <td>...</td>\n",
       "      <td>...</td>\n",
       "      <td>...</td>\n",
       "      <td>...</td>\n",
       "      <td>...</td>\n",
       "      <td>...</td>\n",
       "      <td>...</td>\n",
       "      <td>...</td>\n",
       "    </tr>\n",
       "    <tr>\n",
       "      <th>4605</th>\n",
       "      <td>KARI</td>\n",
       "      <td>LC-2, Naro Space Center, South Korea</td>\n",
       "      <td>2022-06-21</td>\n",
       "      <td>07:00:00</td>\n",
       "      <td>KSLV-2</td>\n",
       "      <td>Test Flight 2</td>\n",
       "      <td>Active</td>\n",
       "      <td>NaN</td>\n",
       "      <td>Success</td>\n",
       "    </tr>\n",
       "    <tr>\n",
       "      <th>4610</th>\n",
       "      <td>Rocket Lab</td>\n",
       "      <td>Rocket Lab LC-1B, MÄhia Peninsula, New Zealand</td>\n",
       "      <td>2022-06-28</td>\n",
       "      <td>09:55:00</td>\n",
       "      <td>Electron/Photon</td>\n",
       "      <td>CAPSTONE</td>\n",
       "      <td>Active</td>\n",
       "      <td>NaN</td>\n",
       "      <td>Success</td>\n",
       "    </tr>\n",
       "    <tr>\n",
       "      <th>4621</th>\n",
       "      <td>ESA</td>\n",
       "      <td>ELV-1, Guiana Space Centre, French Guiana, France</td>\n",
       "      <td>2022-07-13</td>\n",
       "      <td>13:13:00</td>\n",
       "      <td>Vega C</td>\n",
       "      <td>LARES 2 &amp; Cubesats</td>\n",
       "      <td>Active</td>\n",
       "      <td>NaN</td>\n",
       "      <td>Success</td>\n",
       "    </tr>\n",
       "    <tr>\n",
       "      <th>4626</th>\n",
       "      <td>CASC</td>\n",
       "      <td>LC-101, Wenchang Satellite Launch Center, China</td>\n",
       "      <td>2022-07-24</td>\n",
       "      <td>06:22:00</td>\n",
       "      <td>Long March 5B</td>\n",
       "      <td>Wentian</td>\n",
       "      <td>Active</td>\n",
       "      <td>NaN</td>\n",
       "      <td>Success</td>\n",
       "    </tr>\n",
       "    <tr>\n",
       "      <th>4628</th>\n",
       "      <td>CAS Space</td>\n",
       "      <td>Jiuquan Satellite Launch Center, China</td>\n",
       "      <td>2022-07-27</td>\n",
       "      <td>04:12:00</td>\n",
       "      <td>Zhongke-1A</td>\n",
       "      <td>Demo Flight</td>\n",
       "      <td>Active</td>\n",
       "      <td>NaN</td>\n",
       "      <td>Success</td>\n",
       "    </tr>\n",
       "  </tbody>\n",
       "</table>\n",
       "<p>3365 rows × 9 columns</p>\n",
       "</div>"
      ],
      "text/plain": [
       "         Company                                           Location  \\\n",
       "0      RVSN USSR          Site 1/5, Baikonur Cosmodrome, Kazakhstan   \n",
       "1      RVSN USSR          Site 1/5, Baikonur Cosmodrome, Kazakhstan   \n",
       "2        US Navy           LC-18A, Cape Canaveral AFS, Florida, USA   \n",
       "3           AMBA           LC-26A, Cape Canaveral AFS, Florida, USA   \n",
       "4        US Navy           LC-18A, Cape Canaveral AFS, Florida, USA   \n",
       "...          ...                                                ...   \n",
       "4605        KARI               LC-2, Naro Space Center, South Korea   \n",
       "4610  Rocket Lab    Rocket Lab LC-1B, MÄhia Peninsula, New Zealand   \n",
       "4621         ESA  ELV-1, Guiana Space Centre, French Guiana, France   \n",
       "4626        CASC    LC-101, Wenchang Satellite Launch Center, China   \n",
       "4628   CAS Space             Jiuquan Satellite Launch Center, China   \n",
       "\n",
       "           Date      Time           Rocket             Mission RocketStatus  \\\n",
       "0    1957-10-04  19:28:00   Sputnik 8K71PS           Sputnik-1      Retired   \n",
       "1    1957-11-03  02:30:00   Sputnik 8K71PS           Sputnik-2      Retired   \n",
       "2    1957-12-06  16:44:00         Vanguard        Vanguard TV3      Retired   \n",
       "3    1958-02-01  03:48:00           Juno I          Explorer 1      Retired   \n",
       "4    1958-02-05  07:33:00         Vanguard      Vanguard TV3BU      Retired   \n",
       "...         ...       ...              ...                 ...          ...   \n",
       "4605 2022-06-21  07:00:00           KSLV-2       Test Flight 2       Active   \n",
       "4610 2022-06-28  09:55:00  Electron/Photon            CAPSTONE       Active   \n",
       "4621 2022-07-13  13:13:00           Vega C  LARES 2 & Cubesats       Active   \n",
       "4626 2022-07-24  06:22:00    Long March 5B             Wentian       Active   \n",
       "4628 2022-07-27  04:12:00       Zhongke-1A         Demo Flight       Active   \n",
       "\n",
       "      Price MissionStatus  \n",
       "0       NaN       Success  \n",
       "1       NaN       Success  \n",
       "2       NaN       Failure  \n",
       "3       NaN       Success  \n",
       "4       NaN       Failure  \n",
       "...     ...           ...  \n",
       "4605    NaN       Success  \n",
       "4610    NaN       Success  \n",
       "4621    NaN       Success  \n",
       "4626    NaN       Success  \n",
       "4628    NaN       Success  \n",
       "\n",
       "[3365 rows x 9 columns]"
      ]
     },
     "execution_count": 11,
     "metadata": {},
     "output_type": "execute_result"
    }
   ],
   "source": [
    "df[df['Price'].isnull()]"
   ]
  },
  {
   "cell_type": "code",
   "execution_count": 12,
   "metadata": {},
   "outputs": [],
   "source": [
    "df['Price'] = df['Price'].fillna(df['Price'].mean())"
   ]
  },
  {
   "cell_type": "code",
   "execution_count": 13,
   "metadata": {},
   "outputs": [],
   "source": [
    "df['Time'] = df['Time'].ffill()"
   ]
  },
  {
   "cell_type": "code",
   "execution_count": null,
   "metadata": {},
   "outputs": [
    {
     "data": {
      "text/html": [
       "<div>\n",
       "<style scoped>\n",
       "    .dataframe tbody tr th:only-of-type {\n",
       "        vertical-align: middle;\n",
       "    }\n",
       "\n",
       "    .dataframe tbody tr th {\n",
       "        vertical-align: top;\n",
       "    }\n",
       "\n",
       "    .dataframe thead th {\n",
       "        text-align: right;\n",
       "    }\n",
       "</style>\n",
       "<table border=\"1\" class=\"dataframe\">\n",
       "  <thead>\n",
       "    <tr style=\"text-align: right;\">\n",
       "      <th></th>\n",
       "      <th>Company</th>\n",
       "      <th>Location</th>\n",
       "      <th>Date</th>\n",
       "      <th>Time</th>\n",
       "      <th>Rocket</th>\n",
       "      <th>Mission</th>\n",
       "      <th>RocketStatus</th>\n",
       "      <th>Price</th>\n",
       "      <th>MissionStatus</th>\n",
       "    </tr>\n",
       "  </thead>\n",
       "  <tbody>\n",
       "  </tbody>\n",
       "</table>\n",
       "</div>"
      ],
      "text/plain": [
       "Empty DataFrame\n",
       "Columns: [Company, Location, Date, Time, Rocket, Mission, RocketStatus, Price, MissionStatus]\n",
       "Index: []"
      ]
     },
     "execution_count": 14,
     "metadata": {},
     "output_type": "execute_result"
    }
   ],
   "source": [
    "df[df['Price'].isnull()]"
   ]
  },
  {
   "cell_type": "code",
   "execution_count": 15,
   "metadata": {},
   "outputs": [
    {
     "data": {
      "text/html": [
       "<div>\n",
       "<style scoped>\n",
       "    .dataframe tbody tr th:only-of-type {\n",
       "        vertical-align: middle;\n",
       "    }\n",
       "\n",
       "    .dataframe tbody tr th {\n",
       "        vertical-align: top;\n",
       "    }\n",
       "\n",
       "    .dataframe thead th {\n",
       "        text-align: right;\n",
       "    }\n",
       "</style>\n",
       "<table border=\"1\" class=\"dataframe\">\n",
       "  <thead>\n",
       "    <tr style=\"text-align: right;\">\n",
       "      <th></th>\n",
       "      <th>Company</th>\n",
       "      <th>Location</th>\n",
       "      <th>Date</th>\n",
       "      <th>Time</th>\n",
       "      <th>Rocket</th>\n",
       "      <th>Mission</th>\n",
       "      <th>RocketStatus</th>\n",
       "      <th>Price</th>\n",
       "      <th>MissionStatus</th>\n",
       "    </tr>\n",
       "  </thead>\n",
       "  <tbody>\n",
       "  </tbody>\n",
       "</table>\n",
       "</div>"
      ],
      "text/plain": [
       "Empty DataFrame\n",
       "Columns: [Company, Location, Date, Time, Rocket, Mission, RocketStatus, Price, MissionStatus]\n",
       "Index: []"
      ]
     },
     "execution_count": 15,
     "metadata": {},
     "output_type": "execute_result"
    }
   ],
   "source": [
    "df[df['Time'].isnull()]"
   ]
  },
  {
   "cell_type": "code",
   "execution_count": 16,
   "metadata": {},
   "outputs": [
    {
     "data": {
      "text/plain": [
       "Company          0\n",
       "Location         0\n",
       "Date             0\n",
       "Time             0\n",
       "Rocket           0\n",
       "Mission          0\n",
       "RocketStatus     0\n",
       "Price            0\n",
       "MissionStatus    0\n",
       "dtype: int64"
      ]
     },
     "execution_count": 16,
     "metadata": {},
     "output_type": "execute_result"
    }
   ],
   "source": [
    "df.isnull().sum()"
   ]
  },
  {
   "cell_type": "markdown",
   "metadata": {},
   "source": [
    "### Note: All Nulls have been Imputed/replaced with proper values"
   ]
  },
  {
   "cell_type": "code",
   "execution_count": 17,
   "metadata": {},
   "outputs": [
    {
     "data": {
      "text/html": [
       "<div>\n",
       "<style scoped>\n",
       "    .dataframe tbody tr th:only-of-type {\n",
       "        vertical-align: middle;\n",
       "    }\n",
       "\n",
       "    .dataframe tbody tr th {\n",
       "        vertical-align: top;\n",
       "    }\n",
       "\n",
       "    .dataframe thead th {\n",
       "        text-align: right;\n",
       "    }\n",
       "</style>\n",
       "<table border=\"1\" class=\"dataframe\">\n",
       "  <thead>\n",
       "    <tr style=\"text-align: right;\">\n",
       "      <th></th>\n",
       "      <th>Company</th>\n",
       "      <th>Location</th>\n",
       "      <th>Date</th>\n",
       "      <th>Time</th>\n",
       "      <th>Rocket</th>\n",
       "      <th>Mission</th>\n",
       "      <th>RocketStatus</th>\n",
       "      <th>Price</th>\n",
       "      <th>MissionStatus</th>\n",
       "    </tr>\n",
       "  </thead>\n",
       "  <tbody>\n",
       "    <tr>\n",
       "      <th>0</th>\n",
       "      <td>RVSN USSR</td>\n",
       "      <td>Site 1/5, Baikonur Cosmodrome, Kazakhstan</td>\n",
       "      <td>1957-10-04</td>\n",
       "      <td>19:28:00</td>\n",
       "      <td>Sputnik 8K71PS</td>\n",
       "      <td>Sputnik-1</td>\n",
       "      <td>Retired</td>\n",
       "      <td>128.303913</td>\n",
       "      <td>Success</td>\n",
       "    </tr>\n",
       "    <tr>\n",
       "      <th>1</th>\n",
       "      <td>RVSN USSR</td>\n",
       "      <td>Site 1/5, Baikonur Cosmodrome, Kazakhstan</td>\n",
       "      <td>1957-11-03</td>\n",
       "      <td>02:30:00</td>\n",
       "      <td>Sputnik 8K71PS</td>\n",
       "      <td>Sputnik-2</td>\n",
       "      <td>Retired</td>\n",
       "      <td>128.303913</td>\n",
       "      <td>Success</td>\n",
       "    </tr>\n",
       "    <tr>\n",
       "      <th>2</th>\n",
       "      <td>US Navy</td>\n",
       "      <td>LC-18A, Cape Canaveral AFS, Florida, USA</td>\n",
       "      <td>1957-12-06</td>\n",
       "      <td>16:44:00</td>\n",
       "      <td>Vanguard</td>\n",
       "      <td>Vanguard TV3</td>\n",
       "      <td>Retired</td>\n",
       "      <td>128.303913</td>\n",
       "      <td>Failure</td>\n",
       "    </tr>\n",
       "    <tr>\n",
       "      <th>3</th>\n",
       "      <td>AMBA</td>\n",
       "      <td>LC-26A, Cape Canaveral AFS, Florida, USA</td>\n",
       "      <td>1958-02-01</td>\n",
       "      <td>03:48:00</td>\n",
       "      <td>Juno I</td>\n",
       "      <td>Explorer 1</td>\n",
       "      <td>Retired</td>\n",
       "      <td>128.303913</td>\n",
       "      <td>Success</td>\n",
       "    </tr>\n",
       "    <tr>\n",
       "      <th>4</th>\n",
       "      <td>US Navy</td>\n",
       "      <td>LC-18A, Cape Canaveral AFS, Florida, USA</td>\n",
       "      <td>1958-02-05</td>\n",
       "      <td>07:33:00</td>\n",
       "      <td>Vanguard</td>\n",
       "      <td>Vanguard TV3BU</td>\n",
       "      <td>Retired</td>\n",
       "      <td>128.303913</td>\n",
       "      <td>Failure</td>\n",
       "    </tr>\n",
       "  </tbody>\n",
       "</table>\n",
       "</div>"
      ],
      "text/plain": [
       "     Company                                   Location       Date      Time  \\\n",
       "0  RVSN USSR  Site 1/5, Baikonur Cosmodrome, Kazakhstan 1957-10-04  19:28:00   \n",
       "1  RVSN USSR  Site 1/5, Baikonur Cosmodrome, Kazakhstan 1957-11-03  02:30:00   \n",
       "2    US Navy   LC-18A, Cape Canaveral AFS, Florida, USA 1957-12-06  16:44:00   \n",
       "3       AMBA   LC-26A, Cape Canaveral AFS, Florida, USA 1958-02-01  03:48:00   \n",
       "4    US Navy   LC-18A, Cape Canaveral AFS, Florida, USA 1958-02-05  07:33:00   \n",
       "\n",
       "           Rocket         Mission RocketStatus       Price MissionStatus  \n",
       "0  Sputnik 8K71PS       Sputnik-1      Retired  128.303913       Success  \n",
       "1  Sputnik 8K71PS       Sputnik-2      Retired  128.303913       Success  \n",
       "2        Vanguard    Vanguard TV3      Retired  128.303913       Failure  \n",
       "3          Juno I      Explorer 1      Retired  128.303913       Success  \n",
       "4        Vanguard  Vanguard TV3BU      Retired  128.303913       Failure  "
      ]
     },
     "execution_count": 17,
     "metadata": {},
     "output_type": "execute_result"
    }
   ],
   "source": [
    "df.head()"
   ]
  },
  {
   "cell_type": "code",
   "execution_count": 18,
   "metadata": {},
   "outputs": [],
   "source": [
    "df1 = df.drop_duplicates()"
   ]
  },
  {
   "cell_type": "code",
   "execution_count": 19,
   "metadata": {},
   "outputs": [
    {
     "data": {
      "text/plain": [
       "(4629, 9)"
      ]
     },
     "execution_count": 19,
     "metadata": {},
     "output_type": "execute_result"
    }
   ],
   "source": [
    "df1.shape"
   ]
  },
  {
   "cell_type": "code",
   "execution_count": 20,
   "metadata": {},
   "outputs": [
    {
     "data": {
      "text/plain": [
       "(4630, 9)"
      ]
     },
     "execution_count": 20,
     "metadata": {},
     "output_type": "execute_result"
    }
   ],
   "source": [
    "df.shape"
   ]
  },
  {
   "cell_type": "code",
   "execution_count": 21,
   "metadata": {},
   "outputs": [
    {
     "name": "stdout",
     "output_type": "stream",
     "text": [
      "No. of Duplicates: 1\n"
     ]
    }
   ],
   "source": [
    "print(\"No. of Duplicates:\",df.shape[0] - df1.shape[0])"
   ]
  },
  {
   "cell_type": "markdown",
   "metadata": {},
   "source": [
    "### Note: Duplicates have been removed"
   ]
  },
  {
   "cell_type": "code",
   "execution_count": 22,
   "metadata": {},
   "outputs": [
    {
     "data": {
      "text/plain": [
       "Index(['Company', 'Location', 'Date', 'Time', 'Rocket', 'Mission',\n",
       "       'RocketStatus', 'Price', 'MissionStatus'],\n",
       "      dtype='object')"
      ]
     },
     "execution_count": 22,
     "metadata": {},
     "output_type": "execute_result"
    }
   ],
   "source": [
    "df1.columns"
   ]
  },
  {
   "cell_type": "code",
   "execution_count": 23,
   "metadata": {},
   "outputs": [
    {
     "data": {
      "text/plain": [
       "Company                  object\n",
       "Location                 object\n",
       "Date             datetime64[ns]\n",
       "Time                     object\n",
       "Rocket                   object\n",
       "Mission                  object\n",
       "RocketStatus             object\n",
       "Price                   float64\n",
       "MissionStatus            object\n",
       "dtype: object"
      ]
     },
     "execution_count": 23,
     "metadata": {},
     "output_type": "execute_result"
    }
   ],
   "source": [
    "df1.dtypes"
   ]
  },
  {
   "cell_type": "markdown",
   "metadata": {},
   "source": [
    "### Feature Engineering"
   ]
  },
  {
   "cell_type": "code",
   "execution_count": 24,
   "metadata": {},
   "outputs": [
    {
     "data": {
      "text/plain": [
       "Index(['Company', 'Location', 'Date', 'Time', 'Rocket', 'Mission',\n",
       "       'RocketStatus', 'Price', 'MissionStatus'],\n",
       "      dtype='object')"
      ]
     },
     "execution_count": 24,
     "metadata": {},
     "output_type": "execute_result"
    }
   ],
   "source": [
    "df1.columns"
   ]
  },
  {
   "cell_type": "code",
   "execution_count": 25,
   "metadata": {},
   "outputs": [
    {
     "name": "stderr",
     "output_type": "stream",
     "text": [
      "C:\\Users\\ASUS\\AppData\\Local\\Temp\\ipykernel_17068\\4023703600.py:1: SettingWithCopyWarning: \n",
      "A value is trying to be set on a copy of a slice from a DataFrame.\n",
      "Try using .loc[row_indexer,col_indexer] = value instead\n",
      "\n",
      "See the caveats in the documentation: https://pandas.pydata.org/pandas-docs/stable/user_guide/indexing.html#returning-a-view-versus-a-copy\n",
      "  df1['Year'] = df1['Date'].dt.year\n"
     ]
    }
   ],
   "source": [
    "df1['Year'] = df1['Date'].dt.year"
   ]
  },
  {
   "cell_type": "code",
   "execution_count": 26,
   "metadata": {},
   "outputs": [
    {
     "data": {
      "text/html": [
       "<div>\n",
       "<style scoped>\n",
       "    .dataframe tbody tr th:only-of-type {\n",
       "        vertical-align: middle;\n",
       "    }\n",
       "\n",
       "    .dataframe tbody tr th {\n",
       "        vertical-align: top;\n",
       "    }\n",
       "\n",
       "    .dataframe thead th {\n",
       "        text-align: right;\n",
       "    }\n",
       "</style>\n",
       "<table border=\"1\" class=\"dataframe\">\n",
       "  <thead>\n",
       "    <tr style=\"text-align: right;\">\n",
       "      <th></th>\n",
       "      <th>Company</th>\n",
       "      <th>Location</th>\n",
       "      <th>Date</th>\n",
       "      <th>Time</th>\n",
       "      <th>Rocket</th>\n",
       "      <th>Mission</th>\n",
       "      <th>RocketStatus</th>\n",
       "      <th>Price</th>\n",
       "      <th>MissionStatus</th>\n",
       "      <th>Year</th>\n",
       "    </tr>\n",
       "  </thead>\n",
       "  <tbody>\n",
       "    <tr>\n",
       "      <th>0</th>\n",
       "      <td>RVSN USSR</td>\n",
       "      <td>Site 1/5, Baikonur Cosmodrome, Kazakhstan</td>\n",
       "      <td>1957-10-04</td>\n",
       "      <td>19:28:00</td>\n",
       "      <td>Sputnik 8K71PS</td>\n",
       "      <td>Sputnik-1</td>\n",
       "      <td>Retired</td>\n",
       "      <td>128.303913</td>\n",
       "      <td>Success</td>\n",
       "      <td>1957</td>\n",
       "    </tr>\n",
       "    <tr>\n",
       "      <th>1</th>\n",
       "      <td>RVSN USSR</td>\n",
       "      <td>Site 1/5, Baikonur Cosmodrome, Kazakhstan</td>\n",
       "      <td>1957-11-03</td>\n",
       "      <td>02:30:00</td>\n",
       "      <td>Sputnik 8K71PS</td>\n",
       "      <td>Sputnik-2</td>\n",
       "      <td>Retired</td>\n",
       "      <td>128.303913</td>\n",
       "      <td>Success</td>\n",
       "      <td>1957</td>\n",
       "    </tr>\n",
       "    <tr>\n",
       "      <th>2</th>\n",
       "      <td>US Navy</td>\n",
       "      <td>LC-18A, Cape Canaveral AFS, Florida, USA</td>\n",
       "      <td>1957-12-06</td>\n",
       "      <td>16:44:00</td>\n",
       "      <td>Vanguard</td>\n",
       "      <td>Vanguard TV3</td>\n",
       "      <td>Retired</td>\n",
       "      <td>128.303913</td>\n",
       "      <td>Failure</td>\n",
       "      <td>1957</td>\n",
       "    </tr>\n",
       "    <tr>\n",
       "      <th>3</th>\n",
       "      <td>AMBA</td>\n",
       "      <td>LC-26A, Cape Canaveral AFS, Florida, USA</td>\n",
       "      <td>1958-02-01</td>\n",
       "      <td>03:48:00</td>\n",
       "      <td>Juno I</td>\n",
       "      <td>Explorer 1</td>\n",
       "      <td>Retired</td>\n",
       "      <td>128.303913</td>\n",
       "      <td>Success</td>\n",
       "      <td>1958</td>\n",
       "    </tr>\n",
       "    <tr>\n",
       "      <th>4</th>\n",
       "      <td>US Navy</td>\n",
       "      <td>LC-18A, Cape Canaveral AFS, Florida, USA</td>\n",
       "      <td>1958-02-05</td>\n",
       "      <td>07:33:00</td>\n",
       "      <td>Vanguard</td>\n",
       "      <td>Vanguard TV3BU</td>\n",
       "      <td>Retired</td>\n",
       "      <td>128.303913</td>\n",
       "      <td>Failure</td>\n",
       "      <td>1958</td>\n",
       "    </tr>\n",
       "  </tbody>\n",
       "</table>\n",
       "</div>"
      ],
      "text/plain": [
       "     Company                                   Location       Date      Time  \\\n",
       "0  RVSN USSR  Site 1/5, Baikonur Cosmodrome, Kazakhstan 1957-10-04  19:28:00   \n",
       "1  RVSN USSR  Site 1/5, Baikonur Cosmodrome, Kazakhstan 1957-11-03  02:30:00   \n",
       "2    US Navy   LC-18A, Cape Canaveral AFS, Florida, USA 1957-12-06  16:44:00   \n",
       "3       AMBA   LC-26A, Cape Canaveral AFS, Florida, USA 1958-02-01  03:48:00   \n",
       "4    US Navy   LC-18A, Cape Canaveral AFS, Florida, USA 1958-02-05  07:33:00   \n",
       "\n",
       "           Rocket         Mission RocketStatus       Price MissionStatus  Year  \n",
       "0  Sputnik 8K71PS       Sputnik-1      Retired  128.303913       Success  1957  \n",
       "1  Sputnik 8K71PS       Sputnik-2      Retired  128.303913       Success  1957  \n",
       "2        Vanguard    Vanguard TV3      Retired  128.303913       Failure  1957  \n",
       "3          Juno I      Explorer 1      Retired  128.303913       Success  1958  \n",
       "4        Vanguard  Vanguard TV3BU      Retired  128.303913       Failure  1958  "
      ]
     },
     "execution_count": 26,
     "metadata": {},
     "output_type": "execute_result"
    }
   ],
   "source": [
    "df1.head()"
   ]
  },
  {
   "cell_type": "code",
   "execution_count": 27,
   "metadata": {},
   "outputs": [
    {
     "name": "stderr",
     "output_type": "stream",
     "text": [
      "C:\\Users\\ASUS\\AppData\\Local\\Temp\\ipykernel_17068\\4255531520.py:1: SettingWithCopyWarning: \n",
      "A value is trying to be set on a copy of a slice from a DataFrame.\n",
      "Try using .loc[row_indexer,col_indexer] = value instead\n",
      "\n",
      "See the caveats in the documentation: https://pandas.pydata.org/pandas-docs/stable/user_guide/indexing.html#returning-a-view-versus-a-copy\n",
      "  df1['Month'] = df1['Date'].dt.month\n"
     ]
    }
   ],
   "source": [
    "df1['Month'] = df1['Date'].dt.month"
   ]
  },
  {
   "cell_type": "code",
   "execution_count": 28,
   "metadata": {},
   "outputs": [
    {
     "data": {
      "text/html": [
       "<div>\n",
       "<style scoped>\n",
       "    .dataframe tbody tr th:only-of-type {\n",
       "        vertical-align: middle;\n",
       "    }\n",
       "\n",
       "    .dataframe tbody tr th {\n",
       "        vertical-align: top;\n",
       "    }\n",
       "\n",
       "    .dataframe thead th {\n",
       "        text-align: right;\n",
       "    }\n",
       "</style>\n",
       "<table border=\"1\" class=\"dataframe\">\n",
       "  <thead>\n",
       "    <tr style=\"text-align: right;\">\n",
       "      <th></th>\n",
       "      <th>Company</th>\n",
       "      <th>Location</th>\n",
       "      <th>Date</th>\n",
       "      <th>Time</th>\n",
       "      <th>Rocket</th>\n",
       "      <th>Mission</th>\n",
       "      <th>RocketStatus</th>\n",
       "      <th>Price</th>\n",
       "      <th>MissionStatus</th>\n",
       "      <th>Year</th>\n",
       "      <th>Month</th>\n",
       "    </tr>\n",
       "  </thead>\n",
       "  <tbody>\n",
       "    <tr>\n",
       "      <th>0</th>\n",
       "      <td>RVSN USSR</td>\n",
       "      <td>Site 1/5, Baikonur Cosmodrome, Kazakhstan</td>\n",
       "      <td>1957-10-04</td>\n",
       "      <td>19:28:00</td>\n",
       "      <td>Sputnik 8K71PS</td>\n",
       "      <td>Sputnik-1</td>\n",
       "      <td>Retired</td>\n",
       "      <td>128.303913</td>\n",
       "      <td>Success</td>\n",
       "      <td>1957</td>\n",
       "      <td>10</td>\n",
       "    </tr>\n",
       "    <tr>\n",
       "      <th>1</th>\n",
       "      <td>RVSN USSR</td>\n",
       "      <td>Site 1/5, Baikonur Cosmodrome, Kazakhstan</td>\n",
       "      <td>1957-11-03</td>\n",
       "      <td>02:30:00</td>\n",
       "      <td>Sputnik 8K71PS</td>\n",
       "      <td>Sputnik-2</td>\n",
       "      <td>Retired</td>\n",
       "      <td>128.303913</td>\n",
       "      <td>Success</td>\n",
       "      <td>1957</td>\n",
       "      <td>11</td>\n",
       "    </tr>\n",
       "    <tr>\n",
       "      <th>2</th>\n",
       "      <td>US Navy</td>\n",
       "      <td>LC-18A, Cape Canaveral AFS, Florida, USA</td>\n",
       "      <td>1957-12-06</td>\n",
       "      <td>16:44:00</td>\n",
       "      <td>Vanguard</td>\n",
       "      <td>Vanguard TV3</td>\n",
       "      <td>Retired</td>\n",
       "      <td>128.303913</td>\n",
       "      <td>Failure</td>\n",
       "      <td>1957</td>\n",
       "      <td>12</td>\n",
       "    </tr>\n",
       "    <tr>\n",
       "      <th>3</th>\n",
       "      <td>AMBA</td>\n",
       "      <td>LC-26A, Cape Canaveral AFS, Florida, USA</td>\n",
       "      <td>1958-02-01</td>\n",
       "      <td>03:48:00</td>\n",
       "      <td>Juno I</td>\n",
       "      <td>Explorer 1</td>\n",
       "      <td>Retired</td>\n",
       "      <td>128.303913</td>\n",
       "      <td>Success</td>\n",
       "      <td>1958</td>\n",
       "      <td>2</td>\n",
       "    </tr>\n",
       "    <tr>\n",
       "      <th>4</th>\n",
       "      <td>US Navy</td>\n",
       "      <td>LC-18A, Cape Canaveral AFS, Florida, USA</td>\n",
       "      <td>1958-02-05</td>\n",
       "      <td>07:33:00</td>\n",
       "      <td>Vanguard</td>\n",
       "      <td>Vanguard TV3BU</td>\n",
       "      <td>Retired</td>\n",
       "      <td>128.303913</td>\n",
       "      <td>Failure</td>\n",
       "      <td>1958</td>\n",
       "      <td>2</td>\n",
       "    </tr>\n",
       "  </tbody>\n",
       "</table>\n",
       "</div>"
      ],
      "text/plain": [
       "     Company                                   Location       Date      Time  \\\n",
       "0  RVSN USSR  Site 1/5, Baikonur Cosmodrome, Kazakhstan 1957-10-04  19:28:00   \n",
       "1  RVSN USSR  Site 1/5, Baikonur Cosmodrome, Kazakhstan 1957-11-03  02:30:00   \n",
       "2    US Navy   LC-18A, Cape Canaveral AFS, Florida, USA 1957-12-06  16:44:00   \n",
       "3       AMBA   LC-26A, Cape Canaveral AFS, Florida, USA 1958-02-01  03:48:00   \n",
       "4    US Navy   LC-18A, Cape Canaveral AFS, Florida, USA 1958-02-05  07:33:00   \n",
       "\n",
       "           Rocket         Mission RocketStatus       Price MissionStatus  \\\n",
       "0  Sputnik 8K71PS       Sputnik-1      Retired  128.303913       Success   \n",
       "1  Sputnik 8K71PS       Sputnik-2      Retired  128.303913       Success   \n",
       "2        Vanguard    Vanguard TV3      Retired  128.303913       Failure   \n",
       "3          Juno I      Explorer 1      Retired  128.303913       Success   \n",
       "4        Vanguard  Vanguard TV3BU      Retired  128.303913       Failure   \n",
       "\n",
       "   Year  Month  \n",
       "0  1957     10  \n",
       "1  1957     11  \n",
       "2  1957     12  \n",
       "3  1958      2  \n",
       "4  1958      2  "
      ]
     },
     "execution_count": 28,
     "metadata": {},
     "output_type": "execute_result"
    }
   ],
   "source": [
    "df1.head()"
   ]
  },
  {
   "cell_type": "code",
   "execution_count": 29,
   "metadata": {},
   "outputs": [
    {
     "data": {
      "text/plain": [
       "Index(['Company', 'Location', 'Date', 'Time', 'Rocket', 'Mission',\n",
       "       'RocketStatus', 'Price', 'MissionStatus', 'Year', 'Month'],\n",
       "      dtype='object')"
      ]
     },
     "execution_count": 29,
     "metadata": {},
     "output_type": "execute_result"
    }
   ],
   "source": [
    "df1.columns"
   ]
  },
  {
   "cell_type": "code",
   "execution_count": 30,
   "metadata": {},
   "outputs": [
    {
     "data": {
      "text/html": [
       "<div>\n",
       "<style scoped>\n",
       "    .dataframe tbody tr th:only-of-type {\n",
       "        vertical-align: middle;\n",
       "    }\n",
       "\n",
       "    .dataframe tbody tr th {\n",
       "        vertical-align: top;\n",
       "    }\n",
       "\n",
       "    .dataframe thead th {\n",
       "        text-align: right;\n",
       "    }\n",
       "</style>\n",
       "<table border=\"1\" class=\"dataframe\">\n",
       "  <thead>\n",
       "    <tr style=\"text-align: right;\">\n",
       "      <th></th>\n",
       "      <th>Company</th>\n",
       "      <th>Location</th>\n",
       "      <th>Date</th>\n",
       "      <th>Time</th>\n",
       "      <th>Rocket</th>\n",
       "      <th>Mission</th>\n",
       "      <th>RocketStatus</th>\n",
       "      <th>Price</th>\n",
       "      <th>MissionStatus</th>\n",
       "      <th>Year</th>\n",
       "      <th>Month</th>\n",
       "    </tr>\n",
       "  </thead>\n",
       "  <tbody>\n",
       "    <tr>\n",
       "      <th>0</th>\n",
       "      <td>RVSN USSR</td>\n",
       "      <td>Site 1/5, Baikonur Cosmodrome, Kazakhstan</td>\n",
       "      <td>1957-10-04</td>\n",
       "      <td>19:28:00</td>\n",
       "      <td>Sputnik 8K71PS</td>\n",
       "      <td>Sputnik-1</td>\n",
       "      <td>Retired</td>\n",
       "      <td>128.303913</td>\n",
       "      <td>Success</td>\n",
       "      <td>1957</td>\n",
       "      <td>10</td>\n",
       "    </tr>\n",
       "    <tr>\n",
       "      <th>1</th>\n",
       "      <td>RVSN USSR</td>\n",
       "      <td>Site 1/5, Baikonur Cosmodrome, Kazakhstan</td>\n",
       "      <td>1957-11-03</td>\n",
       "      <td>02:30:00</td>\n",
       "      <td>Sputnik 8K71PS</td>\n",
       "      <td>Sputnik-2</td>\n",
       "      <td>Retired</td>\n",
       "      <td>128.303913</td>\n",
       "      <td>Success</td>\n",
       "      <td>1957</td>\n",
       "      <td>11</td>\n",
       "    </tr>\n",
       "  </tbody>\n",
       "</table>\n",
       "</div>"
      ],
      "text/plain": [
       "     Company                                   Location       Date      Time  \\\n",
       "0  RVSN USSR  Site 1/5, Baikonur Cosmodrome, Kazakhstan 1957-10-04  19:28:00   \n",
       "1  RVSN USSR  Site 1/5, Baikonur Cosmodrome, Kazakhstan 1957-11-03  02:30:00   \n",
       "\n",
       "           Rocket    Mission RocketStatus       Price MissionStatus  Year  \\\n",
       "0  Sputnik 8K71PS  Sputnik-1      Retired  128.303913       Success  1957   \n",
       "1  Sputnik 8K71PS  Sputnik-2      Retired  128.303913       Success  1957   \n",
       "\n",
       "   Month  \n",
       "0     10  \n",
       "1     11  "
      ]
     },
     "execution_count": 30,
     "metadata": {},
     "output_type": "execute_result"
    }
   ],
   "source": [
    "df1.head(2)"
   ]
  },
  {
   "cell_type": "code",
   "execution_count": 31,
   "metadata": {},
   "outputs": [
    {
     "name": "stderr",
     "output_type": "stream",
     "text": [
      "C:\\Users\\ASUS\\AppData\\Local\\Temp\\ipykernel_17068\\826400360.py:1: SettingWithCopyWarning: \n",
      "A value is trying to be set on a copy of a slice from a DataFrame.\n",
      "Try using .loc[row_indexer,col_indexer] = value instead\n",
      "\n",
      "See the caveats in the documentation: https://pandas.pydata.org/pandas-docs/stable/user_guide/indexing.html#returning-a-view-versus-a-copy\n",
      "  df1['Month_Name'] = df1['Date'].dt.month_name()\n"
     ]
    }
   ],
   "source": [
    "df1['Month_Name'] = df1['Date'].dt.month_name()"
   ]
  },
  {
   "cell_type": "code",
   "execution_count": 32,
   "metadata": {},
   "outputs": [
    {
     "data": {
      "text/html": [
       "<div>\n",
       "<style scoped>\n",
       "    .dataframe tbody tr th:only-of-type {\n",
       "        vertical-align: middle;\n",
       "    }\n",
       "\n",
       "    .dataframe tbody tr th {\n",
       "        vertical-align: top;\n",
       "    }\n",
       "\n",
       "    .dataframe thead th {\n",
       "        text-align: right;\n",
       "    }\n",
       "</style>\n",
       "<table border=\"1\" class=\"dataframe\">\n",
       "  <thead>\n",
       "    <tr style=\"text-align: right;\">\n",
       "      <th></th>\n",
       "      <th>Company</th>\n",
       "      <th>Location</th>\n",
       "      <th>Date</th>\n",
       "      <th>Time</th>\n",
       "      <th>Rocket</th>\n",
       "      <th>Mission</th>\n",
       "      <th>RocketStatus</th>\n",
       "      <th>Price</th>\n",
       "      <th>MissionStatus</th>\n",
       "      <th>Year</th>\n",
       "      <th>Month</th>\n",
       "      <th>Month_Name</th>\n",
       "    </tr>\n",
       "  </thead>\n",
       "  <tbody>\n",
       "    <tr>\n",
       "      <th>0</th>\n",
       "      <td>RVSN USSR</td>\n",
       "      <td>Site 1/5, Baikonur Cosmodrome, Kazakhstan</td>\n",
       "      <td>1957-10-04</td>\n",
       "      <td>19:28:00</td>\n",
       "      <td>Sputnik 8K71PS</td>\n",
       "      <td>Sputnik-1</td>\n",
       "      <td>Retired</td>\n",
       "      <td>128.303913</td>\n",
       "      <td>Success</td>\n",
       "      <td>1957</td>\n",
       "      <td>10</td>\n",
       "      <td>October</td>\n",
       "    </tr>\n",
       "    <tr>\n",
       "      <th>1</th>\n",
       "      <td>RVSN USSR</td>\n",
       "      <td>Site 1/5, Baikonur Cosmodrome, Kazakhstan</td>\n",
       "      <td>1957-11-03</td>\n",
       "      <td>02:30:00</td>\n",
       "      <td>Sputnik 8K71PS</td>\n",
       "      <td>Sputnik-2</td>\n",
       "      <td>Retired</td>\n",
       "      <td>128.303913</td>\n",
       "      <td>Success</td>\n",
       "      <td>1957</td>\n",
       "      <td>11</td>\n",
       "      <td>November</td>\n",
       "    </tr>\n",
       "  </tbody>\n",
       "</table>\n",
       "</div>"
      ],
      "text/plain": [
       "     Company                                   Location       Date      Time  \\\n",
       "0  RVSN USSR  Site 1/5, Baikonur Cosmodrome, Kazakhstan 1957-10-04  19:28:00   \n",
       "1  RVSN USSR  Site 1/5, Baikonur Cosmodrome, Kazakhstan 1957-11-03  02:30:00   \n",
       "\n",
       "           Rocket    Mission RocketStatus       Price MissionStatus  Year  \\\n",
       "0  Sputnik 8K71PS  Sputnik-1      Retired  128.303913       Success  1957   \n",
       "1  Sputnik 8K71PS  Sputnik-2      Retired  128.303913       Success  1957   \n",
       "\n",
       "   Month Month_Name  \n",
       "0     10    October  \n",
       "1     11   November  "
      ]
     },
     "execution_count": 32,
     "metadata": {},
     "output_type": "execute_result"
    }
   ],
   "source": [
    "df1.head(2)"
   ]
  },
  {
   "cell_type": "code",
   "execution_count": 33,
   "metadata": {},
   "outputs": [
    {
     "name": "stderr",
     "output_type": "stream",
     "text": [
      "C:\\Users\\ASUS\\AppData\\Local\\Temp\\ipykernel_17068\\1183799127.py:1: SettingWithCopyWarning: \n",
      "A value is trying to be set on a copy of a slice from a DataFrame.\n",
      "Try using .loc[row_indexer,col_indexer] = value instead\n",
      "\n",
      "See the caveats in the documentation: https://pandas.pydata.org/pandas-docs/stable/user_guide/indexing.html#returning-a-view-versus-a-copy\n",
      "  df1['Day'] = df1['Date'].dt.day\n"
     ]
    }
   ],
   "source": [
    "df1['Day'] = df1['Date'].dt.day"
   ]
  },
  {
   "cell_type": "code",
   "execution_count": 34,
   "metadata": {},
   "outputs": [
    {
     "data": {
      "text/html": [
       "<div>\n",
       "<style scoped>\n",
       "    .dataframe tbody tr th:only-of-type {\n",
       "        vertical-align: middle;\n",
       "    }\n",
       "\n",
       "    .dataframe tbody tr th {\n",
       "        vertical-align: top;\n",
       "    }\n",
       "\n",
       "    .dataframe thead th {\n",
       "        text-align: right;\n",
       "    }\n",
       "</style>\n",
       "<table border=\"1\" class=\"dataframe\">\n",
       "  <thead>\n",
       "    <tr style=\"text-align: right;\">\n",
       "      <th></th>\n",
       "      <th>Company</th>\n",
       "      <th>Location</th>\n",
       "      <th>Date</th>\n",
       "      <th>Time</th>\n",
       "      <th>Rocket</th>\n",
       "      <th>Mission</th>\n",
       "      <th>RocketStatus</th>\n",
       "      <th>Price</th>\n",
       "      <th>MissionStatus</th>\n",
       "      <th>Year</th>\n",
       "      <th>Month</th>\n",
       "      <th>Month_Name</th>\n",
       "      <th>Day</th>\n",
       "    </tr>\n",
       "  </thead>\n",
       "  <tbody>\n",
       "    <tr>\n",
       "      <th>0</th>\n",
       "      <td>RVSN USSR</td>\n",
       "      <td>Site 1/5, Baikonur Cosmodrome, Kazakhstan</td>\n",
       "      <td>1957-10-04</td>\n",
       "      <td>19:28:00</td>\n",
       "      <td>Sputnik 8K71PS</td>\n",
       "      <td>Sputnik-1</td>\n",
       "      <td>Retired</td>\n",
       "      <td>128.303913</td>\n",
       "      <td>Success</td>\n",
       "      <td>1957</td>\n",
       "      <td>10</td>\n",
       "      <td>October</td>\n",
       "      <td>4</td>\n",
       "    </tr>\n",
       "    <tr>\n",
       "      <th>1</th>\n",
       "      <td>RVSN USSR</td>\n",
       "      <td>Site 1/5, Baikonur Cosmodrome, Kazakhstan</td>\n",
       "      <td>1957-11-03</td>\n",
       "      <td>02:30:00</td>\n",
       "      <td>Sputnik 8K71PS</td>\n",
       "      <td>Sputnik-2</td>\n",
       "      <td>Retired</td>\n",
       "      <td>128.303913</td>\n",
       "      <td>Success</td>\n",
       "      <td>1957</td>\n",
       "      <td>11</td>\n",
       "      <td>November</td>\n",
       "      <td>3</td>\n",
       "    </tr>\n",
       "  </tbody>\n",
       "</table>\n",
       "</div>"
      ],
      "text/plain": [
       "     Company                                   Location       Date      Time  \\\n",
       "0  RVSN USSR  Site 1/5, Baikonur Cosmodrome, Kazakhstan 1957-10-04  19:28:00   \n",
       "1  RVSN USSR  Site 1/5, Baikonur Cosmodrome, Kazakhstan 1957-11-03  02:30:00   \n",
       "\n",
       "           Rocket    Mission RocketStatus       Price MissionStatus  Year  \\\n",
       "0  Sputnik 8K71PS  Sputnik-1      Retired  128.303913       Success  1957   \n",
       "1  Sputnik 8K71PS  Sputnik-2      Retired  128.303913       Success  1957   \n",
       "\n",
       "   Month Month_Name  Day  \n",
       "0     10    October    4  \n",
       "1     11   November    3  "
      ]
     },
     "execution_count": 34,
     "metadata": {},
     "output_type": "execute_result"
    }
   ],
   "source": [
    "df1.head(2)"
   ]
  },
  {
   "cell_type": "code",
   "execution_count": 35,
   "metadata": {},
   "outputs": [
    {
     "name": "stderr",
     "output_type": "stream",
     "text": [
      "C:\\Users\\ASUS\\AppData\\Local\\Temp\\ipykernel_17068\\2192752322.py:1: SettingWithCopyWarning: \n",
      "A value is trying to be set on a copy of a slice from a DataFrame.\n",
      "Try using .loc[row_indexer,col_indexer] = value instead\n",
      "\n",
      "See the caveats in the documentation: https://pandas.pydata.org/pandas-docs/stable/user_guide/indexing.html#returning-a-view-versus-a-copy\n",
      "  df1['Day_Name'] = df1['Date'].dt.day_name()\n"
     ]
    }
   ],
   "source": [
    "df1['Day_Name'] = df1['Date'].dt.day_name()"
   ]
  },
  {
   "cell_type": "code",
   "execution_count": 36,
   "metadata": {},
   "outputs": [
    {
     "data": {
      "text/html": [
       "<div>\n",
       "<style scoped>\n",
       "    .dataframe tbody tr th:only-of-type {\n",
       "        vertical-align: middle;\n",
       "    }\n",
       "\n",
       "    .dataframe tbody tr th {\n",
       "        vertical-align: top;\n",
       "    }\n",
       "\n",
       "    .dataframe thead th {\n",
       "        text-align: right;\n",
       "    }\n",
       "</style>\n",
       "<table border=\"1\" class=\"dataframe\">\n",
       "  <thead>\n",
       "    <tr style=\"text-align: right;\">\n",
       "      <th></th>\n",
       "      <th>Company</th>\n",
       "      <th>Location</th>\n",
       "      <th>Date</th>\n",
       "      <th>Time</th>\n",
       "      <th>Rocket</th>\n",
       "      <th>Mission</th>\n",
       "      <th>RocketStatus</th>\n",
       "      <th>Price</th>\n",
       "      <th>MissionStatus</th>\n",
       "      <th>Year</th>\n",
       "      <th>Month</th>\n",
       "      <th>Month_Name</th>\n",
       "      <th>Day</th>\n",
       "      <th>Day_Name</th>\n",
       "    </tr>\n",
       "  </thead>\n",
       "  <tbody>\n",
       "    <tr>\n",
       "      <th>0</th>\n",
       "      <td>RVSN USSR</td>\n",
       "      <td>Site 1/5, Baikonur Cosmodrome, Kazakhstan</td>\n",
       "      <td>1957-10-04</td>\n",
       "      <td>19:28:00</td>\n",
       "      <td>Sputnik 8K71PS</td>\n",
       "      <td>Sputnik-1</td>\n",
       "      <td>Retired</td>\n",
       "      <td>128.303913</td>\n",
       "      <td>Success</td>\n",
       "      <td>1957</td>\n",
       "      <td>10</td>\n",
       "      <td>October</td>\n",
       "      <td>4</td>\n",
       "      <td>Friday</td>\n",
       "    </tr>\n",
       "    <tr>\n",
       "      <th>1</th>\n",
       "      <td>RVSN USSR</td>\n",
       "      <td>Site 1/5, Baikonur Cosmodrome, Kazakhstan</td>\n",
       "      <td>1957-11-03</td>\n",
       "      <td>02:30:00</td>\n",
       "      <td>Sputnik 8K71PS</td>\n",
       "      <td>Sputnik-2</td>\n",
       "      <td>Retired</td>\n",
       "      <td>128.303913</td>\n",
       "      <td>Success</td>\n",
       "      <td>1957</td>\n",
       "      <td>11</td>\n",
       "      <td>November</td>\n",
       "      <td>3</td>\n",
       "      <td>Sunday</td>\n",
       "    </tr>\n",
       "  </tbody>\n",
       "</table>\n",
       "</div>"
      ],
      "text/plain": [
       "     Company                                   Location       Date      Time  \\\n",
       "0  RVSN USSR  Site 1/5, Baikonur Cosmodrome, Kazakhstan 1957-10-04  19:28:00   \n",
       "1  RVSN USSR  Site 1/5, Baikonur Cosmodrome, Kazakhstan 1957-11-03  02:30:00   \n",
       "\n",
       "           Rocket    Mission RocketStatus       Price MissionStatus  Year  \\\n",
       "0  Sputnik 8K71PS  Sputnik-1      Retired  128.303913       Success  1957   \n",
       "1  Sputnik 8K71PS  Sputnik-2      Retired  128.303913       Success  1957   \n",
       "\n",
       "   Month Month_Name  Day Day_Name  \n",
       "0     10    October    4   Friday  \n",
       "1     11   November    3   Sunday  "
      ]
     },
     "execution_count": 36,
     "metadata": {},
     "output_type": "execute_result"
    }
   ],
   "source": [
    "df1.head(2)"
   ]
  },
  {
   "cell_type": "code",
   "execution_count": 37,
   "metadata": {},
   "outputs": [
    {
     "name": "stderr",
     "output_type": "stream",
     "text": [
      "C:\\Users\\ASUS\\AppData\\Local\\Temp\\ipykernel_17068\\830653330.py:1: SettingWithCopyWarning: \n",
      "A value is trying to be set on a copy of a slice from a DataFrame.\n",
      "Try using .loc[row_indexer,col_indexer] = value instead\n",
      "\n",
      "See the caveats in the documentation: https://pandas.pydata.org/pandas-docs/stable/user_guide/indexing.html#returning-a-view-versus-a-copy\n",
      "  df1['country'] = df1['Location'].str.split(',').str[-1]\n"
     ]
    }
   ],
   "source": [
    "df1['country'] = df1['Location'].str.split(',').str[-1]"
   ]
  },
  {
   "cell_type": "code",
   "execution_count": 38,
   "metadata": {},
   "outputs": [
    {
     "data": {
      "text/html": [
       "<div>\n",
       "<style scoped>\n",
       "    .dataframe tbody tr th:only-of-type {\n",
       "        vertical-align: middle;\n",
       "    }\n",
       "\n",
       "    .dataframe tbody tr th {\n",
       "        vertical-align: top;\n",
       "    }\n",
       "\n",
       "    .dataframe thead th {\n",
       "        text-align: right;\n",
       "    }\n",
       "</style>\n",
       "<table border=\"1\" class=\"dataframe\">\n",
       "  <thead>\n",
       "    <tr style=\"text-align: right;\">\n",
       "      <th></th>\n",
       "      <th>Company</th>\n",
       "      <th>Location</th>\n",
       "      <th>Date</th>\n",
       "      <th>Time</th>\n",
       "      <th>Rocket</th>\n",
       "      <th>Mission</th>\n",
       "      <th>RocketStatus</th>\n",
       "      <th>Price</th>\n",
       "      <th>MissionStatus</th>\n",
       "      <th>Year</th>\n",
       "      <th>Month</th>\n",
       "      <th>Month_Name</th>\n",
       "      <th>Day</th>\n",
       "      <th>Day_Name</th>\n",
       "      <th>country</th>\n",
       "    </tr>\n",
       "  </thead>\n",
       "  <tbody>\n",
       "    <tr>\n",
       "      <th>0</th>\n",
       "      <td>RVSN USSR</td>\n",
       "      <td>Site 1/5, Baikonur Cosmodrome, Kazakhstan</td>\n",
       "      <td>1957-10-04</td>\n",
       "      <td>19:28:00</td>\n",
       "      <td>Sputnik 8K71PS</td>\n",
       "      <td>Sputnik-1</td>\n",
       "      <td>Retired</td>\n",
       "      <td>128.303913</td>\n",
       "      <td>Success</td>\n",
       "      <td>1957</td>\n",
       "      <td>10</td>\n",
       "      <td>October</td>\n",
       "      <td>4</td>\n",
       "      <td>Friday</td>\n",
       "      <td>Kazakhstan</td>\n",
       "    </tr>\n",
       "    <tr>\n",
       "      <th>1</th>\n",
       "      <td>RVSN USSR</td>\n",
       "      <td>Site 1/5, Baikonur Cosmodrome, Kazakhstan</td>\n",
       "      <td>1957-11-03</td>\n",
       "      <td>02:30:00</td>\n",
       "      <td>Sputnik 8K71PS</td>\n",
       "      <td>Sputnik-2</td>\n",
       "      <td>Retired</td>\n",
       "      <td>128.303913</td>\n",
       "      <td>Success</td>\n",
       "      <td>1957</td>\n",
       "      <td>11</td>\n",
       "      <td>November</td>\n",
       "      <td>3</td>\n",
       "      <td>Sunday</td>\n",
       "      <td>Kazakhstan</td>\n",
       "    </tr>\n",
       "  </tbody>\n",
       "</table>\n",
       "</div>"
      ],
      "text/plain": [
       "     Company                                   Location       Date      Time  \\\n",
       "0  RVSN USSR  Site 1/5, Baikonur Cosmodrome, Kazakhstan 1957-10-04  19:28:00   \n",
       "1  RVSN USSR  Site 1/5, Baikonur Cosmodrome, Kazakhstan 1957-11-03  02:30:00   \n",
       "\n",
       "           Rocket    Mission RocketStatus       Price MissionStatus  Year  \\\n",
       "0  Sputnik 8K71PS  Sputnik-1      Retired  128.303913       Success  1957   \n",
       "1  Sputnik 8K71PS  Sputnik-2      Retired  128.303913       Success  1957   \n",
       "\n",
       "   Month Month_Name  Day Day_Name      country  \n",
       "0     10    October    4   Friday   Kazakhstan  \n",
       "1     11   November    3   Sunday   Kazakhstan  "
      ]
     },
     "execution_count": 38,
     "metadata": {},
     "output_type": "execute_result"
    }
   ],
   "source": [
    "df1.head(2)"
   ]
  },
  {
   "cell_type": "markdown",
   "metadata": {},
   "source": [
    "### Outliers Treatment"
   ]
  },
  {
   "cell_type": "code",
   "execution_count": 39,
   "metadata": {},
   "outputs": [
    {
     "data": {
      "text/plain": [
       "Index(['Company', 'Location', 'Date', 'Time', 'Rocket', 'Mission',\n",
       "       'RocketStatus', 'Price', 'MissionStatus', 'Year', 'Month', 'Month_Name',\n",
       "       'Day', 'Day_Name', 'country'],\n",
       "      dtype='object')"
      ]
     },
     "execution_count": 39,
     "metadata": {},
     "output_type": "execute_result"
    }
   ],
   "source": [
    "df1.columns"
   ]
  },
  {
   "cell_type": "code",
   "execution_count": 40,
   "metadata": {},
   "outputs": [
    {
     "data": {
      "text/plain": [
       "Company                  object\n",
       "Location                 object\n",
       "Date             datetime64[ns]\n",
       "Time                     object\n",
       "Rocket                   object\n",
       "Mission                  object\n",
       "RocketStatus             object\n",
       "Price                   float64\n",
       "MissionStatus            object\n",
       "Year                      int32\n",
       "Month                     int32\n",
       "Month_Name               object\n",
       "Day                       int32\n",
       "Day_Name                 object\n",
       "country                  object\n",
       "dtype: object"
      ]
     },
     "execution_count": 40,
     "metadata": {},
     "output_type": "execute_result"
    }
   ],
   "source": [
    "df1.dtypes"
   ]
  },
  {
   "cell_type": "code",
   "execution_count": 41,
   "metadata": {},
   "outputs": [
    {
     "data": {
      "text/plain": [
       "<Axes: ylabel='Price'>"
      ]
     },
     "execution_count": 41,
     "metadata": {},
     "output_type": "execute_result"
    },
    {
     "data": {
      "image/png": "[encoded data removed]",
      "text/plain": [
       "<Figure size 640x480 with 1 Axes>"
      ]
     },
     "metadata": {},
     "output_type": "display_data"
    }
   ],
   "source": [
    "sns.boxplot(y='Price',data=df1)"
   ]
  },
  {
   "cell_type": "code",
   "execution_count": 42,
   "metadata": {},
   "outputs": [
    {
     "data": {
      "image/png": "[encoded data removed]",
      "text/plain": [
       "<Figure size 1000x1000 with 1 Axes>"
      ]
     },
     "metadata": {},
     "output_type": "display_data"
    }
   ],
   "source": [
    "plt.figure(figsize=(10,10))\n",
    "sns.boxplot(y='Price',data=df1)\n",
    "plt.show()"
   ]
  },
  {
   "cell_type": "code",
   "execution_count": 43,
   "metadata": {},
   "outputs": [
    {
     "data": {
      "text/plain": [
       "count    4629.000000\n",
       "mean      128.325204\n",
       "std       134.182308\n",
       "min         2.500000\n",
       "25%       128.303913\n",
       "50%       128.303913\n",
       "75%       128.303913\n",
       "max      5000.000000\n",
       "Name: Price, dtype: float64"
      ]
     },
     "execution_count": 43,
     "metadata": {},
     "output_type": "execute_result"
    }
   ],
   "source": [
    "df1['Price'].describe()"
   ]
  },
  {
   "cell_type": "markdown",
   "metadata": {},
   "source": [
    "### Removal of Outliers"
   ]
  },
  {
   "cell_type": "code",
   "execution_count": 44,
   "metadata": {},
   "outputs": [],
   "source": [
    "def remove_outliers(col_name):\n",
    "    sorted(col_name)\n",
    "    Q1,Q3 = col_name.quantile([0.25,0.75])\n",
    "    IQR = Q3 - Q1\n",
    "    lower = Q1 - 1.5*IQR\n",
    "    upper = Q3 + 1.5*IQR\n",
    "    return lower, upper\n",
    "\n"
   ]
  },
  {
   "cell_type": "markdown",
   "metadata": {},
   "source": [
    "### Analysis / Visualization"
   ]
  },
  {
   "cell_type": "code",
   "execution_count": 45,
   "metadata": {},
   "outputs": [
    {
     "data": {
      "text/plain": [
       "country\n",
       "USA                               1467\n",
       "Russia                            1416\n",
       "Kazakhstan                         719\n",
       "China                              364\n",
       "France                             318\n",
       "Japan                              130\n",
       "India                               82\n",
       "Pacific Ocean                       36\n",
       "New Zealand                         28\n",
       "Iran                                16\n",
       "Israel                              11\n",
       "Kenya                                9\n",
       "Australia                            6\n",
       "North Korea                          5\n",
       "South Korea                          5\n",
       "New Mexico                           4\n",
       "Brazil                               3\n",
       "Barents Sea                          3\n",
       "Yellow Sea                           3\n",
       "Gran Canaria                         2\n",
       "Pacific Missile Range Facility       1\n",
       "Shahrud Missile Test Site            1\n",
       "Name: count, dtype: int64"
      ]
     },
     "execution_count": 45,
     "metadata": {},
     "output_type": "execute_result"
    }
   ],
   "source": [
    "df1['country'].value_counts()"
   ]
  },
  {
   "cell_type": "code",
   "execution_count": 46,
   "metadata": {},
   "outputs": [
    {
     "data": {
      "text/plain": [
       "Day_Name\n",
       "Thursday     869\n",
       "Wednesday    868\n",
       "Friday       815\n",
       "Tuesday      791\n",
       "Saturday     528\n",
       "Monday       453\n",
       "Sunday       305\n",
       "Name: count, dtype: int64"
      ]
     },
     "execution_count": 46,
     "metadata": {},
     "output_type": "execute_result"
    }
   ],
   "source": [
    "df1['Day_Name'].value_counts().sort_values(ascending=False)"
   ]
  },
  {
   "cell_type": "code",
   "execution_count": 47,
   "metadata": {},
   "outputs": [
    {
     "data": {
      "text/plain": [
       "Index(['Company', 'Location', 'Date', 'Time', 'Rocket', 'Mission',\n",
       "       'RocketStatus', 'Price', 'MissionStatus', 'Year', 'Month', 'Month_Name',\n",
       "       'Day', 'Day_Name', 'country'],\n",
       "      dtype='object')"
      ]
     },
     "execution_count": 47,
     "metadata": {},
     "output_type": "execute_result"
    }
   ],
   "source": [
    "df1.columns"
   ]
  },
  {
   "cell_type": "code",
   "execution_count": 48,
   "metadata": {},
   "outputs": [
    {
     "data": {
      "text/plain": [
       "Month_Name\n",
       "December     492\n",
       "June         431\n",
       "April        409\n",
       "October      403\n",
       "August       391\n",
       "September    386\n",
       "July         380\n",
       "March        378\n",
       "November     364\n",
       "February     361\n",
       "May          350\n",
       "January      284\n",
       "Name: count, dtype: int64"
      ]
     },
     "execution_count": 48,
     "metadata": {},
     "output_type": "execute_result"
    }
   ],
   "source": [
    "df1['Month_Name'].value_counts().sort_values(ascending=False)"
   ]
  },
  {
   "cell_type": "code",
   "execution_count": 49,
   "metadata": {},
   "outputs": [
    {
     "data": {
      "text/plain": [
       "Year\n",
       "2021    157\n",
       "1971    119\n",
       "2020    119\n",
       "2018    117\n",
       "1977    114\n",
       "       ... \n",
       "2005     37\n",
       "2010     37\n",
       "1958     28\n",
       "1959     20\n",
       "1957      3\n",
       "Name: count, Length: 66, dtype: int64"
      ]
     },
     "execution_count": 49,
     "metadata": {},
     "output_type": "execute_result"
    }
   ],
   "source": [
    "df1['Year'].value_counts().sort_values(ascending=False)"
   ]
  },
  {
   "cell_type": "code",
   "execution_count": 50,
   "metadata": {},
   "outputs": [
    {
     "data": {
      "text/plain": [
       "Month_Name\n",
       "December     60676.679130\n",
       "April        53613.172609\n",
       "November     53266.827826\n",
       "June         52686.448261\n",
       "October      49926.963913\n",
       "May          49750.025217\n",
       "July         48529.663913\n",
       "August       48452.248696\n",
       "March        47600.675652\n",
       "September    47077.377826\n",
       "February     45785.791739\n",
       "January      36651.492609\n",
       "Name: Price, dtype: float64"
      ]
     },
     "execution_count": 50,
     "metadata": {},
     "output_type": "execute_result"
    }
   ],
   "source": [
    "df1.groupby(['Month_Name'])['Price'].sum().sort_values(ascending=False)"
   ]
  },
  {
   "cell_type": "code",
   "execution_count": 51,
   "metadata": {},
   "outputs": [
    {
     "data": {
      "text/plain": [
       "(array([ 0,  1,  2,  3,  4,  5,  6,  7,  8,  9, 10, 11, 12, 13, 14, 15, 16,\n",
       "        17, 18, 19, 20, 21, 22, 23, 24, 25, 26, 27, 28, 29, 30, 31, 32, 33,\n",
       "        34, 35, 36, 37, 38, 39, 40, 41, 42, 43, 44, 45, 46, 47, 48, 49, 50,\n",
       "        51, 52, 53, 54, 55, 56, 57, 58, 59, 60, 61, 62, 63, 64, 65]),\n",
       " [Text(0, 0, '1971'),\n",
       "  Text(1, 0, '1969'),\n",
       "  Text(2, 0, '1972'),\n",
       "  Text(3, 0, '1970'),\n",
       "  Text(4, 0, '1968'),\n",
       "  Text(5, 0, '1977'),\n",
       "  Text(6, 0, '1975'),\n",
       "  Text(7, 0, '1976'),\n",
       "  Text(8, 0, '1973'),\n",
       "  Text(9, 0, '1967'),\n",
       "  Text(10, 0, '1988'),\n",
       "  Text(11, 0, '1966'),\n",
       "  Text(12, 0, '1974'),\n",
       "  Text(13, 0, '1978'),\n",
       "  Text(14, 0, '1985'),\n",
       "  Text(15, 0, '1990'),\n",
       "  Text(16, 0, '1987'),\n",
       "  Text(17, 0, '1965'),\n",
       "  Text(18, 0, '1997'),\n",
       "  Text(19, 0, '1962'),\n",
       "  Text(20, 0, '1984'),\n",
       "  Text(21, 0, '1992'),\n",
       "  Text(22, 0, '2021'),\n",
       "  Text(23, 0, '1995'),\n",
       "  Text(24, 0, '1981'),\n",
       "  Text(25, 0, '1994'),\n",
       "  Text(26, 0, '1983'),\n",
       "  Text(27, 0, '1993'),\n",
       "  Text(28, 0, '1982'),\n",
       "  Text(29, 0, '1991'),\n",
       "  Text(30, 0, '1996'),\n",
       "  Text(31, 0, '1998'),\n",
       "  Text(32, 0, '2018'),\n",
       "  Text(33, 0, '1986'),\n",
       "  Text(34, 0, '1989'),\n",
       "  Text(35, 0, '2000'),\n",
       "  Text(36, 0, '2009'),\n",
       "  Text(37, 0, '2016'),\n",
       "  Text(38, 0, '2019'),\n",
       "  Text(39, 0, '1964'),\n",
       "  Text(40, 0, '2020'),\n",
       "  Text(41, 0, '1999'),\n",
       "  Text(42, 0, '2002'),\n",
       "  Text(43, 0, '2001'),\n",
       "  Text(44, 0, '2017'),\n",
       "  Text(45, 0, '1980'),\n",
       "  Text(46, 0, '1961'),\n",
       "  Text(47, 0, '2006'),\n",
       "  Text(48, 0, '2007'),\n",
       "  Text(49, 0, '1979'),\n",
       "  Text(50, 0, '2008'),\n",
       "  Text(51, 0, '2011'),\n",
       "  Text(52, 0, '2022'),\n",
       "  Text(53, 0, '2003'),\n",
       "  Text(54, 0, '2010'),\n",
       "  Text(55, 0, '2014'),\n",
       "  Text(56, 0, '1963'),\n",
       "  Text(57, 0, '1960'),\n",
       "  Text(58, 0, '2015'),\n",
       "  Text(59, 0, '2012'),\n",
       "  Text(60, 0, '2004'),\n",
       "  Text(61, 0, '2013'),\n",
       "  Text(62, 0, '2005'),\n",
       "  Text(63, 0, '1958'),\n",
       "  Text(64, 0, '1959'),\n",
       "  Text(65, 0, '1957')])"
      ]
     },
     "execution_count": 51,
     "metadata": {},
     "output_type": "execute_result"
    },
    {
     "data": {
      "image/png": "[encoded data removed]",
      "text/plain": [
       "<Figure size 1000x1000 with 1 Axes>"
      ]
     },
     "metadata": {},
     "output_type": "display_data"
    }
   ],
   "source": [
    "plt.figure(figsize=(10,10))\n",
    "df1.groupby(['Year'])['Price'].sum().sort_values(ascending=False).plot(kind='bar')\n",
    "plt.xticks(rotation=90)"
   ]
  },
  {
   "cell_type": "code",
   "execution_count": 52,
   "metadata": {},
   "outputs": [
    {
     "name": "stdout",
     "output_type": "stream",
     "text": [
      "Year\n",
      "1957      384.911739\n",
      "1958     3592.509565\n",
      "1959     2566.078261\n",
      "1960     5003.852609\n",
      "1961     6671.803478\n",
      "            ...     \n",
      "2018     8931.913913\n",
      "2019     7623.983913\n",
      "2020     7478.864783\n",
      "2021    10225.603478\n",
      "2022     5779.214783\n",
      "Name: Price, Length: 66, dtype: float64\n"
     ]
    }
   ],
   "source": [
    "funds_year = df1.groupby(['Year'])['Price'].sum()\n",
    "print(funds_year)"
   ]
  },
  {
   "cell_type": "code",
   "execution_count": 53,
   "metadata": {},
   "outputs": [
    {
     "name": "stdout",
     "output_type": "stream",
     "text": [
      "Which Year having Max Funds: 1971\n"
     ]
    }
   ],
   "source": [
    "print('Which Year having Max Funds:',funds_year.idxmax())"
   ]
  },
  {
   "cell_type": "code",
   "execution_count": 54,
   "metadata": {},
   "outputs": [
    {
     "name": "stdout",
     "output_type": "stream",
     "text": [
      "How Much Max Found: 17331.55782608696\n"
     ]
    }
   ],
   "source": [
    "print('How Much Max Found:',funds_year.max())"
   ]
  },
  {
   "cell_type": "code",
   "execution_count": 55,
   "metadata": {},
   "outputs": [
    {
     "data": {
      "image/png": "[encoded data removed]",
      "text/plain": [
       "<Figure size 1000x1000 with 1 Axes>"
      ]
     },
     "metadata": {},
     "output_type": "display_data"
    }
   ],
   "source": [
    "plt.figure(figsize=(10,10))\n",
    "df1.groupby(['Month_Name'])['Price'].sum().plot(kind='line')\n",
    "plt.show()"
   ]
  },
  {
   "cell_type": "code",
   "execution_count": 56,
   "metadata": {},
   "outputs": [
    {
     "data": {
      "image/png": "[encoded data removed]",
      "text/plain": [
       "<Figure size 1000x1000 with 1 Axes>"
      ]
     },
     "metadata": {},
     "output_type": "display_data"
    }
   ],
   "source": [
    "plt.figure(figsize=(10,10))\n",
    "sns.countplot(x='country',data=df1)\n",
    "plt.xticks(rotation=90)\n",
    "plt.show()"
   ]
  },
  {
   "cell_type": "code",
   "execution_count": 57,
   "metadata": {},
   "outputs": [
    {
     "data": {
      "text/plain": [
       "<Axes: ylabel='count'>"
      ]
     },
     "execution_count": 57,
     "metadata": {},
     "output_type": "execute_result"
    },
    {
     "data": {
      "image/png": "[encoded data removed]",
      "text/plain": [
       "<Figure size 1000x1000 with 1 Axes>"
      ]
     },
     "metadata": {},
     "output_type": "display_data"
    }
   ],
   "source": [
    "plt.figure(figsize=(10,10))\n",
    "df1['MissionStatus'].value_counts().plot(kind='pie',autopct=\"%1.1f%%\")"
   ]
  },
  {
   "cell_type": "code",
   "execution_count": 58,
   "metadata": {},
   "outputs": [
    {
     "data": {
      "image/png": "[encoded data removed]",
      "text/plain": [
       "<Figure size 1000x1000 with 1 Axes>"
      ]
     },
     "metadata": {},
     "output_type": "display_data"
    }
   ],
   "source": [
    "plt.figure(figsize=(10,10))\n",
    "df1.groupby(['RocketStatus'])['Price'].mean().plot(kind='bar')\n",
    "plt.show()"
   ]
  },
  {
   "cell_type": "code",
   "execution_count": 59,
   "metadata": {},
   "outputs": [
    {
     "data": {
      "image/png": "[encoded data removed]",
      "text/plain": [
       "<Figure size 1000x1000 with 1 Axes>"
      ]
     },
     "metadata": {},
     "output_type": "display_data"
    }
   ],
   "source": [
    "plt.figure(figsize=(10,10))\n",
    "df1['Month_Name'].value_counts().sort_index().plot(kind='bar', title='Mission Count by Month')\n",
    "plt.show()"
   ]
  },
  {
   "cell_type": "code",
   "execution_count": 60,
   "metadata": {},
   "outputs": [
    {
     "data": {
      "image/png": "[encoded data removed]",
      "text/plain": [
       "<Figure size 1000x1000 with 2 Axes>"
      ]
     },
     "metadata": {},
     "output_type": "display_data"
    }
   ],
   "source": [
    "# Create a pivot table for the heatmap\n",
    "monthly_missions = df1.pivot_table(index='Month_Name', columns='country', aggfunc='size', fill_value=0)\n",
    "\n",
    "plt.figure(figsize=(10, 10))\n",
    "sns.heatmap(monthly_missions, annot=True, cmap='Blues', cbar=True)\n",
    "plt.title('Monthly Mission Count by Country')\n",
    "plt.show()\n"
   ]
  },
  {
   "cell_type": "code",
   "execution_count": null,
   "metadata": {},
   "outputs": [
    {
     "data": {
      "text/html": [
       "<div>\n",
       "<style scoped>\n",
       "    .dataframe tbody tr th:only-of-type {\n",
       "        vertical-align: middle;\n",
       "    }\n",
       "\n",
       "    .dataframe tbody tr th {\n",
       "        vertical-align: top;\n",
       "    }\n",
       "\n",
       "    .dataframe thead th {\n",
       "        text-align: right;\n",
       "    }\n",
       "</style>\n",
       "<table border=\"1\" class=\"dataframe\">\n",
       "  <thead>\n",
       "    <tr style=\"text-align: right;\">\n",
       "      <th>country</th>\n",
       "      <th>Australia</th>\n",
       "      <th>Barents Sea</th>\n",
       "      <th>Brazil</th>\n",
       "      <th>China</th>\n",
       "      <th>France</th>\n",
       "      <th>Gran Canaria</th>\n",
       "      <th>India</th>\n",
       "      <th>Iran</th>\n",
       "      <th>Israel</th>\n",
       "      <th>Japan</th>\n",
       "      <th>...</th>\n",
       "      <th>New Mexico</th>\n",
       "      <th>New Zealand</th>\n",
       "      <th>North Korea</th>\n",
       "      <th>Pacific Missile Range Facility</th>\n",
       "      <th>Pacific Ocean</th>\n",
       "      <th>Russia</th>\n",
       "      <th>Shahrud Missile Test Site</th>\n",
       "      <th>South Korea</th>\n",
       "      <th>USA</th>\n",
       "      <th>Yellow Sea</th>\n",
       "    </tr>\n",
       "    <tr>\n",
       "      <th>Month_Name</th>\n",
       "      <th></th>\n",
       "      <th></th>\n",
       "      <th></th>\n",
       "      <th></th>\n",
       "      <th></th>\n",
       "      <th></th>\n",
       "      <th></th>\n",
       "      <th></th>\n",
       "      <th></th>\n",
       "      <th></th>\n",
       "      <th></th>\n",
       "      <th></th>\n",
       "      <th></th>\n",
       "      <th></th>\n",
       "      <th></th>\n",
       "      <th></th>\n",
       "      <th></th>\n",
       "      <th></th>\n",
       "      <th></th>\n",
       "      <th></th>\n",
       "      <th></th>\n",
       "    </tr>\n",
       "  </thead>\n",
       "  <tbody>\n",
       "    <tr>\n",
       "      <th>April</th>\n",
       "      <td>0</td>\n",
       "      <td>0</td>\n",
       "      <td>0</td>\n",
       "      <td>26</td>\n",
       "      <td>21</td>\n",
       "      <td>1</td>\n",
       "      <td>13</td>\n",
       "      <td>0</td>\n",
       "      <td>3</td>\n",
       "      <td>1</td>\n",
       "      <td>...</td>\n",
       "      <td>0</td>\n",
       "      <td>1</td>\n",
       "      <td>2</td>\n",
       "      <td>0</td>\n",
       "      <td>3</td>\n",
       "      <td>122</td>\n",
       "      <td>1</td>\n",
       "      <td>0</td>\n",
       "      <td>138</td>\n",
       "      <td>1</td>\n",
       "    </tr>\n",
       "    <tr>\n",
       "      <th>August</th>\n",
       "      <td>0</td>\n",
       "      <td>0</td>\n",
       "      <td>1</td>\n",
       "      <td>30</td>\n",
       "      <td>32</td>\n",
       "      <td>1</td>\n",
       "      <td>4</td>\n",
       "      <td>2</td>\n",
       "      <td>0</td>\n",
       "      <td>18</td>\n",
       "      <td>...</td>\n",
       "      <td>1</td>\n",
       "      <td>2</td>\n",
       "      <td>1</td>\n",
       "      <td>0</td>\n",
       "      <td>3</td>\n",
       "      <td>98</td>\n",
       "      <td>0</td>\n",
       "      <td>1</td>\n",
       "      <td>129</td>\n",
       "      <td>0</td>\n",
       "    </tr>\n",
       "    <tr>\n",
       "      <th>December</th>\n",
       "      <td>0</td>\n",
       "      <td>0</td>\n",
       "      <td>1</td>\n",
       "      <td>41</td>\n",
       "      <td>46</td>\n",
       "      <td>0</td>\n",
       "      <td>7</td>\n",
       "      <td>1</td>\n",
       "      <td>0</td>\n",
       "      <td>9</td>\n",
       "      <td>...</td>\n",
       "      <td>0</td>\n",
       "      <td>4</td>\n",
       "      <td>1</td>\n",
       "      <td>0</td>\n",
       "      <td>1</td>\n",
       "      <td>168</td>\n",
       "      <td>0</td>\n",
       "      <td>0</td>\n",
       "      <td>140</td>\n",
       "      <td>0</td>\n",
       "    </tr>\n",
       "    <tr>\n",
       "      <th>February</th>\n",
       "      <td>0</td>\n",
       "      <td>0</td>\n",
       "      <td>0</td>\n",
       "      <td>14</td>\n",
       "      <td>28</td>\n",
       "      <td>0</td>\n",
       "      <td>4</td>\n",
       "      <td>7</td>\n",
       "      <td>0</td>\n",
       "      <td>45</td>\n",
       "      <td>...</td>\n",
       "      <td>0</td>\n",
       "      <td>1</td>\n",
       "      <td>1</td>\n",
       "      <td>0</td>\n",
       "      <td>2</td>\n",
       "      <td>95</td>\n",
       "      <td>0</td>\n",
       "      <td>0</td>\n",
       "      <td>114</td>\n",
       "      <td>0</td>\n",
       "    </tr>\n",
       "    <tr>\n",
       "      <th>January</th>\n",
       "      <td>0</td>\n",
       "      <td>0</td>\n",
       "      <td>0</td>\n",
       "      <td>22</td>\n",
       "      <td>13</td>\n",
       "      <td>0</td>\n",
       "      <td>6</td>\n",
       "      <td>1</td>\n",
       "      <td>1</td>\n",
       "      <td>11</td>\n",
       "      <td>...</td>\n",
       "      <td>0</td>\n",
       "      <td>3</td>\n",
       "      <td>0</td>\n",
       "      <td>0</td>\n",
       "      <td>3</td>\n",
       "      <td>92</td>\n",
       "      <td>0</td>\n",
       "      <td>1</td>\n",
       "      <td>98</td>\n",
       "      <td>0</td>\n",
       "    </tr>\n",
       "    <tr>\n",
       "      <th>July</th>\n",
       "      <td>1</td>\n",
       "      <td>1</td>\n",
       "      <td>0</td>\n",
       "      <td>34</td>\n",
       "      <td>25</td>\n",
       "      <td>0</td>\n",
       "      <td>8</td>\n",
       "      <td>1</td>\n",
       "      <td>1</td>\n",
       "      <td>4</td>\n",
       "      <td>...</td>\n",
       "      <td>0</td>\n",
       "      <td>3</td>\n",
       "      <td>0</td>\n",
       "      <td>0</td>\n",
       "      <td>2</td>\n",
       "      <td>125</td>\n",
       "      <td>0</td>\n",
       "      <td>0</td>\n",
       "      <td>110</td>\n",
       "      <td>0</td>\n",
       "    </tr>\n",
       "    <tr>\n",
       "      <th>June</th>\n",
       "      <td>1</td>\n",
       "      <td>1</td>\n",
       "      <td>0</td>\n",
       "      <td>28</td>\n",
       "      <td>24</td>\n",
       "      <td>0</td>\n",
       "      <td>5</td>\n",
       "      <td>1</td>\n",
       "      <td>2</td>\n",
       "      <td>2</td>\n",
       "      <td>...</td>\n",
       "      <td>1</td>\n",
       "      <td>3</td>\n",
       "      <td>0</td>\n",
       "      <td>0</td>\n",
       "      <td>6</td>\n",
       "      <td>149</td>\n",
       "      <td>0</td>\n",
       "      <td>2</td>\n",
       "      <td>142</td>\n",
       "      <td>1</td>\n",
       "    </tr>\n",
       "    <tr>\n",
       "      <th>March</th>\n",
       "      <td>0</td>\n",
       "      <td>0</td>\n",
       "      <td>0</td>\n",
       "      <td>22</td>\n",
       "      <td>25</td>\n",
       "      <td>0</td>\n",
       "      <td>5</td>\n",
       "      <td>1</td>\n",
       "      <td>0</td>\n",
       "      <td>4</td>\n",
       "      <td>...</td>\n",
       "      <td>1</td>\n",
       "      <td>2</td>\n",
       "      <td>0</td>\n",
       "      <td>0</td>\n",
       "      <td>5</td>\n",
       "      <td>123</td>\n",
       "      <td>0</td>\n",
       "      <td>0</td>\n",
       "      <td>126</td>\n",
       "      <td>0</td>\n",
       "    </tr>\n",
       "    <tr>\n",
       "      <th>May</th>\n",
       "      <td>0</td>\n",
       "      <td>1</td>\n",
       "      <td>0</td>\n",
       "      <td>28</td>\n",
       "      <td>21</td>\n",
       "      <td>0</td>\n",
       "      <td>8</td>\n",
       "      <td>1</td>\n",
       "      <td>1</td>\n",
       "      <td>5</td>\n",
       "      <td>...</td>\n",
       "      <td>0</td>\n",
       "      <td>4</td>\n",
       "      <td>0</td>\n",
       "      <td>0</td>\n",
       "      <td>4</td>\n",
       "      <td>101</td>\n",
       "      <td>0</td>\n",
       "      <td>0</td>\n",
       "      <td>129</td>\n",
       "      <td>0</td>\n",
       "    </tr>\n",
       "    <tr>\n",
       "      <th>November</th>\n",
       "      <td>3</td>\n",
       "      <td>0</td>\n",
       "      <td>1</td>\n",
       "      <td>43</td>\n",
       "      <td>25</td>\n",
       "      <td>0</td>\n",
       "      <td>5</td>\n",
       "      <td>0</td>\n",
       "      <td>0</td>\n",
       "      <td>8</td>\n",
       "      <td>...</td>\n",
       "      <td>0</td>\n",
       "      <td>3</td>\n",
       "      <td>0</td>\n",
       "      <td>1</td>\n",
       "      <td>1</td>\n",
       "      <td>105</td>\n",
       "      <td>0</td>\n",
       "      <td>0</td>\n",
       "      <td>114</td>\n",
       "      <td>0</td>\n",
       "    </tr>\n",
       "    <tr>\n",
       "      <th>October</th>\n",
       "      <td>1</td>\n",
       "      <td>0</td>\n",
       "      <td>0</td>\n",
       "      <td>35</td>\n",
       "      <td>28</td>\n",
       "      <td>0</td>\n",
       "      <td>6</td>\n",
       "      <td>0</td>\n",
       "      <td>0</td>\n",
       "      <td>4</td>\n",
       "      <td>...</td>\n",
       "      <td>1</td>\n",
       "      <td>2</td>\n",
       "      <td>0</td>\n",
       "      <td>0</td>\n",
       "      <td>4</td>\n",
       "      <td>131</td>\n",
       "      <td>0</td>\n",
       "      <td>1</td>\n",
       "      <td>111</td>\n",
       "      <td>0</td>\n",
       "    </tr>\n",
       "    <tr>\n",
       "      <th>September</th>\n",
       "      <td>0</td>\n",
       "      <td>0</td>\n",
       "      <td>0</td>\n",
       "      <td>41</td>\n",
       "      <td>30</td>\n",
       "      <td>0</td>\n",
       "      <td>11</td>\n",
       "      <td>1</td>\n",
       "      <td>3</td>\n",
       "      <td>19</td>\n",
       "      <td>...</td>\n",
       "      <td>0</td>\n",
       "      <td>0</td>\n",
       "      <td>0</td>\n",
       "      <td>0</td>\n",
       "      <td>2</td>\n",
       "      <td>107</td>\n",
       "      <td>0</td>\n",
       "      <td>0</td>\n",
       "      <td>116</td>\n",
       "      <td>1</td>\n",
       "    </tr>\n",
       "  </tbody>\n",
       "</table>\n",
       "<p>12 rows × 22 columns</p>\n",
       "</div>"
      ],
      "text/plain": [
       "country     Australia  Barents Sea  Brazil  China  France  Gran Canaria  \\\n",
       "Month_Name                                                                \n",
       "April               0            0       0     26      21             1   \n",
       "August              0            0       1     30      32             1   \n",
       "December            0            0       1     41      46             0   \n",
       "February            0            0       0     14      28             0   \n",
       "January             0            0       0     22      13             0   \n",
       "July                1            1       0     34      25             0   \n",
       "June                1            1       0     28      24             0   \n",
       "March               0            0       0     22      25             0   \n",
       "May                 0            1       0     28      21             0   \n",
       "November            3            0       1     43      25             0   \n",
       "October             1            0       0     35      28             0   \n",
       "September           0            0       0     41      30             0   \n",
       "\n",
       "country     India  Iran  Israel  Japan  ...  New Mexico  New Zealand  \\\n",
       "Month_Name                              ...                            \n",
       "April          13     0       3      1  ...           0            1   \n",
       "August          4     2       0     18  ...           1            2   \n",
       "December        7     1       0      9  ...           0            4   \n",
       "February        4     7       0     45  ...           0            1   \n",
       "January         6     1       1     11  ...           0            3   \n",
       "July            8     1       1      4  ...           0            3   \n",
       "June            5     1       2      2  ...           1            3   \n",
       "March           5     1       0      4  ...           1            2   \n",
       "May             8     1       1      5  ...           0            4   \n",
       "November        5     0       0      8  ...           0            3   \n",
       "October         6     0       0      4  ...           1            2   \n",
       "September      11     1       3     19  ...           0            0   \n",
       "\n",
       "country     North Korea  Pacific Missile Range Facility  Pacific Ocean  \\\n",
       "Month_Name                                                               \n",
       "April                 2                               0              3   \n",
       "August                1                               0              3   \n",
       "December              1                               0              1   \n",
       "February              1                               0              2   \n",
       "January               0                               0              3   \n",
       "July                  0                               0              2   \n",
       "June                  0                               0              6   \n",
       "March                 0                               0              5   \n",
       "May                   0                               0              4   \n",
       "November              0                               1              1   \n",
       "October               0                               0              4   \n",
       "September             0                               0              2   \n",
       "\n",
       "country     Russia  Shahrud Missile Test Site  South Korea  USA  Yellow Sea  \n",
       "Month_Name                                                                   \n",
       "April          122                          1            0  138           1  \n",
       "August          98                          0            1  129           0  \n",
       "December       168                          0            0  140           0  \n",
       "February        95                          0            0  114           0  \n",
       "January         92                          0            1   98           0  \n",
       "July           125                          0            0  110           0  \n",
       "June           149                          0            2  142           1  \n",
       "March          123                          0            0  126           0  \n",
       "May            101                          0            0  129           0  \n",
       "November       105                          0            0  114           0  \n",
       "October        131                          0            1  111           0  \n",
       "September      107                          0            0  116           1  \n",
       "\n",
       "[12 rows x 22 columns]"
      ]
     },
     "execution_count": 61,
     "metadata": {},
     "output_type": "execute_result"
    }
   ],
   "source": [
    "monthly_missions"
   ]
  },
  {
   "cell_type": "code",
   "execution_count": null,
   "metadata": {},
   "outputs": [],
   "source": []
  }
 ],
 "metadata": {
  "kernelspec": {
   "display_name": "Python 3",
   "language": "python",
   "name": "python3"
  },
  "language_info": {
   "codemirror_mode": {
    "name": "ipython",
    "version": 3
   },
   "file_extension": ".py",
   "mimetype": "text/x-python",
   "name": "python",
   "nbconvert_exporter": "python",
   "pygments_lexer": "ipython3",
   "version": "3.12.1"
  }
 },
 "nbformat": 4,
 "nbformat_minor": 2
}
